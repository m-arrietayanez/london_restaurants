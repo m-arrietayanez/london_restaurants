{
 "cells": [
  {
   "cell_type": "code",
   "execution_count": 115,
   "metadata": {},
   "outputs": [],
   "source": [
    "import pandas as pd\n",
    "import numpy as np\n",
    "import sqlite3"
   ]
  },
  {
   "cell_type": "code",
   "execution_count": 116,
   "metadata": {},
   "outputs": [],
   "source": [
    "#Load data\n",
    "google_df = pd.read_csv('/Users/marianaarrieta/Documents/Data_Projects/london_restaurants/raw_data/data_google_maps.csv')\n",
    "opentable_df = pd.read_csv('/Users/marianaarrieta/Documents/Data_Projects/london_restaurants/raw_data/opentable_data.csv')\n"
   ]
  },
  {
   "cell_type": "code",
   "execution_count": 117,
   "metadata": {},
   "outputs": [
    {
     "data": {
      "text/html": [
       "<div>\n",
       "<style scoped>\n",
       "    .dataframe tbody tr th:only-of-type {\n",
       "        vertical-align: middle;\n",
       "    }\n",
       "\n",
       "    .dataframe tbody tr th {\n",
       "        vertical-align: top;\n",
       "    }\n",
       "\n",
       "    .dataframe thead th {\n",
       "        text-align: right;\n",
       "    }\n",
       "</style>\n",
       "<table border=\"1\" class=\"dataframe\">\n",
       "  <thead>\n",
       "    <tr style=\"text-align: right;\">\n",
       "      <th></th>\n",
       "      <th>names</th>\n",
       "      <th>summary</th>\n",
       "      <th>cusine</th>\n",
       "      <th>price</th>\n",
       "      <th>reviews_count</th>\n",
       "      <th>rating</th>\n",
       "      <th>address</th>\n",
       "      <th>url</th>\n",
       "    </tr>\n",
       "  </thead>\n",
       "  <tbody>\n",
       "    <tr>\n",
       "      <th>0</th>\n",
       "      <td>Restaurant Story</td>\n",
       "      <td>Chef Tom Sellers' novel approach to British cl...</td>\n",
       "      <td>Fine dining restaurant</td>\n",
       "      <td>££££</td>\n",
       "      <td>418 reviews</td>\n",
       "      <td>4.6</td>\n",
       "      <td>199 Tooley St, London SE1 2JX</td>\n",
       "      <td>https://www.google.com/maps/place/Restaurant+S...</td>\n",
       "    </tr>\n",
       "    <tr>\n",
       "      <th>1</th>\n",
       "      <td>Galvin La Chapelle</td>\n",
       "      <td>NaN</td>\n",
       "      <td>French restaurant</td>\n",
       "      <td>££££</td>\n",
       "      <td>1,901 reviews</td>\n",
       "      <td>4.6</td>\n",
       "      <td>NaN</td>\n",
       "      <td>https://www.google.com/maps/place/Galvin+La+Ch...</td>\n",
       "    </tr>\n",
       "    <tr>\n",
       "      <th>2</th>\n",
       "      <td>City Social</td>\n",
       "      <td>NaN</td>\n",
       "      <td>Modern European restaurant</td>\n",
       "      <td>££££</td>\n",
       "      <td>1,187 reviews</td>\n",
       "      <td>4.5</td>\n",
       "      <td>NaN</td>\n",
       "      <td>https://www.google.com/maps/place/City+Social/...</td>\n",
       "    </tr>\n",
       "    <tr>\n",
       "      <th>3</th>\n",
       "      <td>Brawn</td>\n",
       "      <td>Mediterranean small plates menu with an 'all t...</td>\n",
       "      <td>Mediterranean restaurant</td>\n",
       "      <td>££</td>\n",
       "      <td>615 reviews</td>\n",
       "      <td>4.7</td>\n",
       "      <td>49 Columbia Rd, London E2 7RG</td>\n",
       "      <td>https://www.google.com/maps/place/Brawn/@51.52...</td>\n",
       "    </tr>\n",
       "    <tr>\n",
       "      <th>4</th>\n",
       "      <td>Il Bordello</td>\n",
       "      <td>Old-school Italian restaurant with an authenti...</td>\n",
       "      <td>Italian restaurant</td>\n",
       "      <td>££</td>\n",
       "      <td>1,170 reviews</td>\n",
       "      <td>4.5</td>\n",
       "      <td>metropolitan wharf, 70 Wapping Wall, London E1...</td>\n",
       "      <td>https://www.google.com/maps/place/Il+Bordello/...</td>\n",
       "    </tr>\n",
       "  </tbody>\n",
       "</table>\n",
       "</div>"
      ],
      "text/plain": [
       "                names                                            summary  \\\n",
       "0    Restaurant Story  Chef Tom Sellers' novel approach to British cl...   \n",
       "1  Galvin La Chapelle                                                NaN   \n",
       "2         City Social                                                NaN   \n",
       "3               Brawn  Mediterranean small plates menu with an 'all t...   \n",
       "4         Il Bordello  Old-school Italian restaurant with an authenti...   \n",
       "\n",
       "                       cusine price  reviews_count rating  \\\n",
       "0      Fine dining restaurant  ££££    418 reviews    4.6   \n",
       "1           French restaurant  ££££  1,901 reviews    4.6   \n",
       "2  Modern European restaurant  ££££  1,187 reviews    4.5   \n",
       "3    Mediterranean restaurant    ££    615 reviews    4.7   \n",
       "4          Italian restaurant    ££  1,170 reviews    4.5   \n",
       "\n",
       "                                             address  \\\n",
       "0                      199 Tooley St, London SE1 2JX   \n",
       "1                                                NaN   \n",
       "2                                                NaN   \n",
       "3                      49 Columbia Rd, London E2 7RG   \n",
       "4  metropolitan wharf, 70 Wapping Wall, London E1...   \n",
       "\n",
       "                                                 url  \n",
       "0  https://www.google.com/maps/place/Restaurant+S...  \n",
       "1  https://www.google.com/maps/place/Galvin+La+Ch...  \n",
       "2  https://www.google.com/maps/place/City+Social/...  \n",
       "3  https://www.google.com/maps/place/Brawn/@51.52...  \n",
       "4  https://www.google.com/maps/place/Il+Bordello/...  "
      ]
     },
     "execution_count": 117,
     "metadata": {},
     "output_type": "execute_result"
    }
   ],
   "source": [
    "google_df.head()"
   ]
  },
  {
   "cell_type": "code",
   "execution_count": 118,
   "metadata": {},
   "outputs": [
    {
     "data": {
      "text/html": [
       "<div>\n",
       "<style scoped>\n",
       "    .dataframe tbody tr th:only-of-type {\n",
       "        vertical-align: middle;\n",
       "    }\n",
       "\n",
       "    .dataframe tbody tr th {\n",
       "        vertical-align: top;\n",
       "    }\n",
       "\n",
       "    .dataframe thead th {\n",
       "        text-align: right;\n",
       "    }\n",
       "</style>\n",
       "<table border=\"1\" class=\"dataframe\">\n",
       "  <thead>\n",
       "    <tr style=\"text-align: right;\">\n",
       "      <th></th>\n",
       "      <th>names</th>\n",
       "      <th>cuisine</th>\n",
       "      <th>price</th>\n",
       "      <th>reviews</th>\n",
       "      <th>rating</th>\n",
       "      <th>bookings</th>\n",
       "      <th>address</th>\n",
       "    </tr>\n",
       "  </thead>\n",
       "  <tbody>\n",
       "    <tr>\n",
       "      <th>0</th>\n",
       "      <td>Seasons Mayfair</td>\n",
       "      <td>Fish</td>\n",
       "      <td>4</td>\n",
       "      <td>41.0</td>\n",
       "      <td>4.3</td>\n",
       "      <td>8.0</td>\n",
       "      <td>Mayfair</td>\n",
       "    </tr>\n",
       "    <tr>\n",
       "      <th>1</th>\n",
       "      <td>PAPA L's KITCHEN</td>\n",
       "      <td>African</td>\n",
       "      <td>4</td>\n",
       "      <td>257.0</td>\n",
       "      <td>4.6</td>\n",
       "      <td>6.0</td>\n",
       "      <td>St. James's</td>\n",
       "    </tr>\n",
       "    <tr>\n",
       "      <th>2</th>\n",
       "      <td>Coqbull Soho</td>\n",
       "      <td>Rotisserie Chicken</td>\n",
       "      <td>2</td>\n",
       "      <td>175.0</td>\n",
       "      <td>4.1</td>\n",
       "      <td>47.0</td>\n",
       "      <td>Soho</td>\n",
       "    </tr>\n",
       "    <tr>\n",
       "      <th>3</th>\n",
       "      <td>Ham Yard Bar and Restaurant</td>\n",
       "      <td>Modern European</td>\n",
       "      <td>2</td>\n",
       "      <td>3696.0</td>\n",
       "      <td>4.6</td>\n",
       "      <td>92.0</td>\n",
       "      <td>Soho</td>\n",
       "    </tr>\n",
       "    <tr>\n",
       "      <th>4</th>\n",
       "      <td>El Norte</td>\n",
       "      <td>Spanish</td>\n",
       "      <td>4</td>\n",
       "      <td>296.0</td>\n",
       "      <td>4.5</td>\n",
       "      <td>45.0</td>\n",
       "      <td>Mayfair</td>\n",
       "    </tr>\n",
       "  </tbody>\n",
       "</table>\n",
       "</div>"
      ],
      "text/plain": [
       "                         names             cuisine  price  reviews  rating  \\\n",
       "0              Seasons Mayfair                Fish      4     41.0     4.3   \n",
       "1             PAPA L's KITCHEN             African      4    257.0     4.6   \n",
       "2                 Coqbull Soho  Rotisserie Chicken      2    175.0     4.1   \n",
       "3  Ham Yard Bar and Restaurant     Modern European      2   3696.0     4.6   \n",
       "4                     El Norte             Spanish      4    296.0     4.5   \n",
       "\n",
       "   bookings      address  \n",
       "0       8.0      Mayfair  \n",
       "1       6.0  St. James's  \n",
       "2      47.0         Soho  \n",
       "3      92.0         Soho  \n",
       "4      45.0      Mayfair  "
      ]
     },
     "execution_count": 118,
     "metadata": {},
     "output_type": "execute_result"
    }
   ],
   "source": [
    "opentable_df.head()"
   ]
  },
  {
   "cell_type": "markdown",
   "metadata": {},
   "source": [
    "### Filter Google Data"
   ]
  },
  {
   "cell_type": "code",
   "execution_count": 119,
   "metadata": {},
   "outputs": [],
   "source": [
    "#Remove duplicates, if any \n",
    "google_df.drop_duplicates(inplace = True)\n",
    "\n",
    "#Remove rows where cusine = \"Not a restaurant\"\n",
    "google_df = google_df[google_df.cusine != 'Not a restaurant']\n",
    "\n",
    "#Remove rows where there are no ratings \n",
    "google_df = google_df[google_df.rating != 'Not Available']\n"
   ]
  },
  {
   "cell_type": "markdown",
   "metadata": {},
   "source": [
    "### Filter Open Table Data"
   ]
  },
  {
   "cell_type": "code",
   "execution_count": 120,
   "metadata": {},
   "outputs": [],
   "source": [
    "#Remove duplicates, if any \n",
    "opentable_df.drop_duplicates(inplace = True)\n",
    "\n",
    "#Remove booking column \n",
    "opentable_df.drop(columns=['bookings'], inplace = True)"
   ]
  },
  {
   "cell_type": "markdown",
   "metadata": {},
   "source": [
    "## Understand the Differences in Data"
   ]
  },
  {
   "cell_type": "code",
   "execution_count": 121,
   "metadata": {},
   "outputs": [
    {
     "name": "stdout",
     "output_type": "stream",
     "text": [
      "<class 'pandas.core.frame.DataFrame'>\n",
      "Int64Index: 342 entries, 0 to 377\n",
      "Data columns (total 8 columns):\n",
      " #   Column         Non-Null Count  Dtype \n",
      "---  ------         --------------  ----- \n",
      " 0   names          342 non-null    object\n",
      " 1   summary        204 non-null    object\n",
      " 2   cusine         341 non-null    object\n",
      " 3   price          342 non-null    object\n",
      " 4   reviews_count  342 non-null    object\n",
      " 5   rating         342 non-null    object\n",
      " 6   address        263 non-null    object\n",
      " 7   url            342 non-null    object\n",
      "dtypes: object(8)\n",
      "memory usage: 24.0+ KB\n"
     ]
    }
   ],
   "source": [
    "google_df.info()"
   ]
  },
  {
   "cell_type": "code",
   "execution_count": 122,
   "metadata": {},
   "outputs": [
    {
     "name": "stdout",
     "output_type": "stream",
     "text": [
      "<class 'pandas.core.frame.DataFrame'>\n",
      "Int64Index: 400 entries, 0 to 499\n",
      "Data columns (total 6 columns):\n",
      " #   Column   Non-Null Count  Dtype  \n",
      "---  ------   --------------  -----  \n",
      " 0   names    400 non-null    object \n",
      " 1   cuisine  400 non-null    object \n",
      " 2   price    400 non-null    int64  \n",
      " 3   reviews  358 non-null    float64\n",
      " 4   rating   350 non-null    float64\n",
      " 5   address  400 non-null    object \n",
      "dtypes: float64(2), int64(1), object(3)\n",
      "memory usage: 21.9+ KB\n"
     ]
    }
   ],
   "source": [
    "opentable_df.info()"
   ]
  },
  {
   "cell_type": "code",
   "execution_count": 123,
   "metadata": {},
   "outputs": [
    {
     "name": "stdout",
     "output_type": "stream",
     "text": [
      "['££££' '££' 'Not Available' '£££' '£']\n",
      "[4 2 3]\n"
     ]
    }
   ],
   "source": [
    "#Different values in price\n",
    "print(google_df.price.unique())\n",
    "print(opentable_df.price.unique())\n",
    "\n",
    "#Price ranges from 1 to 4, but we need to have the same format across tables\n",
    "price_dict = {'£':1, '££':2, '£££':3, '££££':4, 'Not Available': np.nan}\n",
    "#Map values\n",
    "google_df['price'] = google_df['price'].map(price_dict)\n"
   ]
  },
  {
   "cell_type": "code",
   "execution_count": 126,
   "metadata": {},
   "outputs": [],
   "source": [
    "#Clean reviews  and ratings before converting to float\n",
    "google_df['reviews_count'] = google_df['reviews_count'].replace(',','', regex=True)\n",
    "google_df['reviews_count'] = google_df['reviews_count'].replace('[a-zA-Z]','', regex=True)\n",
    "google_df['reviews_count'] = google_df['reviews_count'].replace('',np.nan, regex=True)\n",
    "google_df['reviews_count'] = google_df['reviews_count'].replace(\"\"\" ''\"\"\", np.nan, regex=True)\n",
    "google_df['reviews_count'] = google_df['reviews_count'].str.strip()\n",
    "\n",
    "google_df['rating'] = google_df['rating'].replace('Not Available', np.nan, regex=True)"
   ]
  },
  {
   "cell_type": "code",
   "execution_count": 127,
   "metadata": {},
   "outputs": [],
   "source": [
    "google_df['reviews_count'] = google_df['reviews_count'].astype(float)\n",
    "\n",
    "google_df['rating'] = google_df['rating'].astype(float)"
   ]
  },
  {
   "cell_type": "code",
   "execution_count": 128,
   "metadata": {},
   "outputs": [],
   "source": [
    "#Make sure caps are the same in restaurant titles to be able to merge later\n",
    "google_df['names'] = google_df['names'].str.lower()\n",
    "google_df['names'] = google_df['names'].str.title()\n",
    "opentable_df['names'] = opentable_df['names'].str.lower()\n",
    "opentable_df['names'] = opentable_df['names'].str.title()"
   ]
  },
  {
   "cell_type": "code",
   "execution_count": 129,
   "metadata": {},
   "outputs": [],
   "source": [
    "#Make column names suitable for merging \n",
    "google_df.rename({'cusine': 'Google Cuisine', 'price': 'Google Price', 'rating': 'Google Rating', 'reviews_count': \"Google Review Count\"}, axis=1, inplace=True)"
   ]
  },
  {
   "cell_type": "code",
   "execution_count": 130,
   "metadata": {},
   "outputs": [],
   "source": [
    "opentable_df.rename({'cuisine': 'OpenTable Cuisine', 'price': 'OpenTable Price', 'rating': 'OpenTable Rating', 'reviews': \"OpenTable Review Count\"}, axis=1, inplace=True)"
   ]
  },
  {
   "cell_type": "code",
   "execution_count": 132,
   "metadata": {},
   "outputs": [],
   "source": [
    "restaurants_df = pd.merge(google_df, opentable_df, how=\"inner\", on=[\"names\"])"
   ]
  },
  {
   "cell_type": "code",
   "execution_count": 135,
   "metadata": {},
   "outputs": [
    {
     "data": {
      "text/plain": [
       "342"
      ]
     },
     "execution_count": 135,
     "metadata": {},
     "output_type": "execute_result"
    }
   ],
   "source": [
    "len(google_df)"
   ]
  },
  {
   "cell_type": "code",
   "execution_count": null,
   "metadata": {},
   "outputs": [
    {
     "data": {
      "text/plain": [
       "array(['Seasons Mayfair', \"Papa L'S Kitchen\", 'Coqbull Soho',\n",
       "       'Ham Yard Bar And Restaurant', 'El Norte', 'Park Row',\n",
       "       \"Bill'S Restaurant & Bar - Soho\", \"Whitcomb'S\", 'Temper Soho',\n",
       "       'Maoz Soho', 'The Ivy Soho Brasserie', 'Happy',\n",
       "       'Gaucho Piccadilly', 'Pierre Victoire', 'Forty Dean Street',\n",
       "       'Tamarind Kitchen', 'Fishworks - Swallow Street', 'Robata',\n",
       "       'Prix Fixe Brasserie', 'Sarap Bistro', 'Heddon Street Kitchen',\n",
       "       'Farzi Cafe', 'Lobos Meat & Tapas - Soho', \"Rowley'S Restaurant\",\n",
       "       'Estiatorio Milos – London', \"Vasco & Piero'S Pavilion Restaurant\",\n",
       "       'Green Bar At Hotel Cafe Royal', 'Orient London',\n",
       "       'Zima Russian Restaurant', 'Kanishka', 'Ino Gastrobar',\n",
       "       'Pix Carnaby', 'Refuel Restaurant At The Soho Hotel',\n",
       "       \"Ruby'S Soho\", 'The Rainforest Cafe London', 'Aqua Kyoto',\n",
       "       'Sola Soho', 'Macellaio Rc Soho', 'Suvlaki Soho',\n",
       "       'Red Dog Saloon Soho', 'The Good Egg Soho', 'Patara - Soho',\n",
       "       'Obicà Mozzarella Bar - Poland Street', 'Pix - Soho',\n",
       "       'Preto West End', 'O Ver St James', 'Baoziinn - Romilly Street',\n",
       "       'Inamo - Soho', '8 At The Londoner', \"Cecconi'S Pizza Bar\",\n",
       "       'Co&Ko', 'Bubba Gump Shrimp Co London', 'The Black Book',\n",
       "       'Aqua Nueva', 'Bistro 1 Soho', 'Bosporus',\n",
       "       'Jam Delish@ The Sun & 13 Cantons', 'Poppies Soho',\n",
       "       'Heliot Steak House', 'Marsha Soho', 'Aquavit London',\n",
       "       'Rooms By The Hour', 'Granaio Piccadilly', \"Field By Fortnum'S\",\n",
       "       'The Stage At The Londoner', '100 Wardour St Bar & Lounge',\n",
       "       'Soho Wala', 'Maison Francois', 'Amici Lounge Bar & Restaurant',\n",
       "       'Mayfair Lounge And Grill', 'Lords', 'Soho Zebrano',\n",
       "       'Temper Covent Garden', \"Foley'S Restaurant\",\n",
       "       'J Sheekey - The Restaurant', 'Palm Court Brasserie',\n",
       "       'Hakkasan - Hanway Place', \"Maxwell'S\", 'Tamarind',\n",
       "       'May Fair Kitchen', 'Kintan Oxford Circus', 'Ivy Market Grill',\n",
       "       'Le Garrick - Covent Garden', 'Brumus - Haymarket',\n",
       "       \"Mr White'S Leicester Square\", 'La Rampa', 'Bocconcino',\n",
       "       'Flesh & Buns Oxford Circus', 'The Riding House Cafe',\n",
       "       'The Nomad London', 'Bagatelle London', 'Manthan',\n",
       "       'Monmouth Kitchen', \"Ginza St. James'S\", '123V', 'Vespa',\n",
       "       'Portland Restaurant', 'The Avocado Show London', 'Lima London',\n",
       "       'Plants By Deliciously Ella', 'House Of Ho - Fitzrovia',\n",
       "       'Brasserie Max - Covent Garden', 'Bloomsbury Street Kitchen',\n",
       "       'The Rooftop At The Hippodrome Casino',\n",
       "       'Afternoon Tea At The Biltmore Hotel', 'Aubaine Mayfair',\n",
       "       'Floral By Lima', 'Ekstedt At The Yard', 'Sergios', 'Jeru',\n",
       "       'Fatt Pundit Covent Garden', 'Le Boudin Blanc',\n",
       "       'Blind Spot London', \"L'Ulivo Villiers Street\",\n",
       "       \"Prima Sapori D'Italia\", 'Bab Mansour',\n",
       "       'Madera At Treehouse London', 'Titu', 'Leicester Square Kitchen',\n",
       "       'No.6 Cavendish', 'Big Easy Covent Garden', 'Boozy Tea Room',\n",
       "       'The Northall At Corinthia London',\n",
       "       'Gordon Ramsay Street Burger — Covent Garden', 'Mariage Frères',\n",
       "       'Oscar Restaurant', 'Beast',\n",
       "       'Gordon Ramsay Street Burger — Charing Cross Road',\n",
       "       'Giannino Mayfair', 'Redfarm', 'Coravin Wine Bar',\n",
       "       'The Footman - Mayfair', 'Moc Kitchen', '45 Jermyn St.', 'Kazu',\n",
       "       \"L'Artiste Muscle\", 'Antipodea Richmond', 'Kurobuta Fitzrovia',\n",
       "       '21Soho', 'The 40 Elephants', 'In Parma By Food Roots', 'Al Hamra',\n",
       "       'Gaucho Charlotte Street', 'Bond Street Kitchen', 'Beso London',\n",
       "       'Mother Mash Covent Garden', 'Greyhound Cafe', 'Ousia', 'Itaku',\n",
       "       'Scoff & Banter Tea Rooms - Oxford Street',\n",
       "       'Bobo Social Fitzrovia', 'Archipelago', 'Chesterfield Arms',\n",
       "       'Bisushima', 'May Fair Bar',\n",
       "       'The Restaurant At St Martins Lane London',\n",
       "       'Caviar House & Prunier', 'The Rooftop', 'Rockwell',\n",
       "       'Queens Of Mayfair', 'The Garden At Corinthia London',\n",
       "       'Comptoir Café And Wine', 'Al Sultan',\n",
       "       \"Stringfellows - Gentleman'S Club And Restaurant\",\n",
       "       'Spaghetti House Goodge Street',\n",
       "       'Spaghetti House Woodstock Street', 'Noura Mayfair',\n",
       "       'Savoir Faire', 'Rai', '1857 The Bar',\n",
       "       'Afternoon Tea At Caffe Concerto - Northumberland Av',\n",
       "       'Giotto Macellaio', 'Angus Steakhouse Woodstock St',\n",
       "       'Madison At The Washington Mayfair Hotel',\n",
       "       'Hachi Japanese Bbq Restaurant', 'Brasserie Zedel',\n",
       "       'The Monarch Theatre At Park Row', 'Mele E Pere', 'Blacklock Soho',\n",
       "       'Hawksmoor Air Street', 'Hard Rock Cafe London Piccadilly Circus',\n",
       "       'Engawa Restaurant', 'Afternoon Tea At The Oscar Wilde Lounge',\n",
       "       'Andrew Edmunds', \"Sticks'N'Sushi - Soho\", 'Folie',\n",
       "       'Old Compton Brasserie', 'Cakes & Bubbles At Hotel Cafe Royal',\n",
       "       'Yauatcha Soho', 'Afternoon Tea At Bafarat Cafe', 'Jinjuu Soho',\n",
       "       'Dean Street Townhouse', 'Madhu’S Of Mayfair',\n",
       "       'Tendril - A (Mostly) Vegan Kitchen', \"Cecconi'S\",\n",
       "       'Inko Nito London', 'Gauthier Soho', \"L'Escargot\",\n",
       "       'Imperial Treasure', \"Negroni'S\", 'Lucky Cat By Gordon Ramsay',\n",
       "       'Saint Jacques', \"Quaglino'S\", 'La Goccia', 'Jamavar',\n",
       "       \"St Martin'S House\", 'The Petersham, Covent Garden', '2 Veneti',\n",
       "       \"Côte Brasserie - St Martin'S Lane\", 'Bardo St James’S',\n",
       "       'Inamo - Covent Garden', 'Ochre Restaurant',\n",
       "       'Le Comptoir Robuchon', 'Stalls - London Coliseum',\n",
       "       'American Bar Restaurant',\n",
       "       'Afternoon Tea At Monmouth Kitchen, Covent Garden', 'Kikuchi',\n",
       "       'It London', 'Les 110 De Taillevent, London',\n",
       "       'The London Cheese Crawl - Food Tour', \"Langan'S Brasserie\",\n",
       "       'Arros Qd', 'Roka - Charlotte Street', 'Mimi Mei Fair',\n",
       "       'Thai Square Covent Garden', 'Bindas Eatery- Mayfair', 'Com Viet',\n",
       "       'Meraki Restaurant', 'The Game Bird', 'Fumo',\n",
       "       'Yalla Yalla Winsley St', 'Delfino Restaurant',\n",
       "       'Sotheby’S Restaurant', 'Berkshire Lounge Bar', \"Bellamy'S\",\n",
       "       'Afternoon Tea At The Radisson Blu Edwardian Kenilworth',\n",
       "       'Afternoon Tea At The Bloomsbury Street Hotel', 'Murano',\n",
       "       'Afternoon Tea At Caffe Concerto Green Park', 'Ormer Mayfair',\n",
       "       'Gbr - Great British Restaurant @ Dukes London',\n",
       "       'Afternoon Tea At Corinthia London',\n",
       "       'Hélène Darroze At The Connaught', 'Eve Bar By Adam Handling',\n",
       "       'Thai Square Trafalgar Square',\n",
       "       'The Drawing Room At Dukes London (Afternoon Tea)',\n",
       "       'Afternoon Tea At The Petersham, Covent Garden',\n",
       "       'The Jones Family Affair', 'Kerridge’S Bar & Grill',\n",
       "       'Da Paolo Restaurant', \"Locket'S\", \"Manetta'S Bar\",\n",
       "       'Punjab Restaurant', 'Pahli Hill',\n",
       "       \"The Drawing Room At Brown'S Hotel\", 'Palms Of Goa',\n",
       "       'The Wine Place Covent Garden',\n",
       "       'Afternoon Tea At The Chesterfield Mayfair',\n",
       "       'The Parlour At Great Scotland Yard',\n",
       "       \"Sticks'N'Sushi - Covent Garden\", 'Jean-Georges At The Connaught',\n",
       "       'Café Murano - St James', 'Caffe Concerto Green Park',\n",
       "       'Pied A Terre', 'Caffe Concerto - Whitehall', 'Da Henrietta',\n",
       "       'Ping Pong Covent Garden',\n",
       "       'The Clermont Restaurant And Bar, Charing Cross',\n",
       "       'Avenue Restaurant', 'The Elysée', 'Pizzeria Mozza',\n",
       "       'The Crusting Pipe', 'Parsons', 'Champagne Charlies',\n",
       "       'Chefs Table At Lucky Cat By Gordon Ramsay', 'Noizé',\n",
       "       'The Den At St Martins Lane London',\n",
       "       'Salvador And Amanda Covent Garden',\n",
       "       'The Foyer & Reading Rooms At Claridge’S',\n",
       "       'Caffé Concerto - Oxford Street', 'Mamounia Lounge - Mayfair',\n",
       "       'Koba', 'Pane Cunzato',\n",
       "       'Afternoon Tea At Jean-Georges At The Connaught',\n",
       "       'Afternoon Tea @ B Bakery', 'Giotto Restaurant',\n",
       "       'Phoenix Arts Club', 'Creme De La Crepe', \"Davy'S St James\",\n",
       "       'Wild Honey Terrace At Sofitel',\n",
       "       'Spaghetti House Cranbourn Street', \"Henry'S Cafe Bar Piccadilly\",\n",
       "       'Afternoon Tea At Caffe Concerto Whitehall', 'The Arber Garden',\n",
       "       'Bonds Mayfair', 'Butlers At The Chesterfield', '1989 Clubhouse',\n",
       "       'Tea And Tattle', 'Norma London', \"Quaglino'S Bar\",\n",
       "       'The Long Acre', 'Bar Salsa!', 'Loop Bar', 'College Arms',\n",
       "       'Lady Of The Grapes', 'Scoff & Banter - Bloomsbury',\n",
       "       'Lucky Cat - Kori Kitchen Table',\n",
       "       'Afternoon Tea At The May Fair Hotel', 'Kiln', 'Foxlow Soho',\n",
       "       'Bob Bob Ricard', 'El Pastor - Soho', 'Hix Soho Restaurant & Bar',\n",
       "       'Hix Soho – Mark’S Bar', 'Mash', 'Yolk - Soho', \"The Queen'S Head\",\n",
       "       'Xu Teahouse & Restaurant', 'Clockjack',\n",
       "       \"Jamie'S Italian, Piccadilly\", 'Jeow Jeow', 'Pampushka', 'Yeni',\n",
       "       'Epoc', 'Wild Rice London', 'Ramo Ramen - Soho', 'Polpo London',\n",
       "       'Nopi', 'Nopi - Downstairs, Sharing Tables',\n",
       "       'Afternoon Tea At The Soho Sanctum Hotel', 'El Camion Soho',\n",
       "       'Oka Kingly Court', \"Sophie'S Steakhouse Soho\", 'Wildheart',\n",
       "       \"Ma' Plucker\", 'The Warwick', 'Cutter & Squidge',\n",
       "       'Afternoon Tea At The Potion Room',\n",
       "       'Signature Afternoon Tea At Cutter & Squidge', 'The Domino Room',\n",
       "       'Jewel Piccadilly',\n",
       "       'Green Bar At Hotel Cafe Royal - Permanently Closed',\n",
       "       \"Magnum Pleasure Store: Chef'S Table\", 'The Sky Bar & Lounge',\n",
       "       'Yoobi Soho', \"Mildred'S - Soho\", 'Yalla Yalla Soho', \"Rita'S\",\n",
       "       'Grace', 'Afternoon Tea In The Domino Room', 'Mister Lasagna',\n",
       "       'Paradise', 'Le Bab', \"Figaro'S\", 'Senor Ceviche - Carnaby',\n",
       "       'Stax Diner', 'Yoshino', 'Benihana Piccadilly', 'Rumours',\n",
       "       'Gaucho Training School', 'Ziggy Green', 'Fratelli La Bufala',\n",
       "       'Moo Cantina Soho', 'Polpetto', 'Fallow', 'The Duck And Rice',\n",
       "       'Pacific Restaurant', 'Magpie', 'Fortnum & Mason - Wine Bar',\n",
       "       'Terrace At The Dilly', 'Piccolino Heddon Street',\n",
       "       'Aubaine Heddon Street', 'Cafe Monico',\n",
       "       \"Bentley'S Oyster Bar & Grill\", 'Sabor', 'Pickle & Toast',\n",
       "       'The Cuckoo Club', 'Sports Bar & Grill Piccadilly Circus',\n",
       "       \"Martha'S Soho\", 'Terrace Grill And Bar', 'Dehesa',\n",
       "       'Social Eating House', 'Tank & Paddle Heddon Street',\n",
       "       \"Evelyn'S Table\", 'Jakata', 'Carnaby Zebrano',\n",
       "       \"Imad'S Syrian Kitchen\", 'The Mulwray', 'Mediterranean Café',\n",
       "       'Yuu Kitchen At Icebar London', 'Casa Do Frango Heddon St',\n",
       "       'Tapas Brindisa Rupert Street', \"Rudy'S Neapolitan Pizza\",\n",
       "       'Rice Coming - Chinatown', 'Vesuvio Restaurant', 'Peperoncino',\n",
       "       'Pizza Toscana', 'Princi - Shaftesbury Avenue.',\n",
       "       'Ho Modern Vietnamese - Permanently Closed', 'The Araki'],\n",
       "      dtype=object)"
      ]
     },
     "execution_count": 104,
     "metadata": {},
     "output_type": "execute_result"
    }
   ],
   "source": [
    "pd.set_option('display.max_rows', 1000)\n",
    "opentable_df.names.unique()"
   ]
  },
  {
   "cell_type": "code",
   "execution_count": null,
   "metadata": {},
   "outputs": [],
   "source": []
  }
 ],
 "metadata": {
  "interpreter": {
   "hash": "b73deb49e4317e1634e6598c4f5693ac751ba82d1598f517dcce0ddf30ad8fdf"
  },
  "kernelspec": {
   "display_name": "Python 3.7.6",
   "language": "python",
   "name": "python3"
  },
  "language_info": {
   "codemirror_mode": {
    "name": "ipython",
    "version": 3
   },
   "file_extension": ".py",
   "mimetype": "text/x-python",
   "name": "python",
   "nbconvert_exporter": "python",
   "pygments_lexer": "ipython3",
   "version": "3.8.5"
  },
  "orig_nbformat": 4
 },
 "nbformat": 4,
 "nbformat_minor": 2
}
