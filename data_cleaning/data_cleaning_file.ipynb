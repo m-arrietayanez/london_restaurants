{
 "cells": [
  {
   "cell_type": "code",
   "execution_count": 6,
   "metadata": {},
   "outputs": [],
   "source": [
    "import pandas as pd\n",
    "import sqlite3"
   ]
  },
  {
   "cell_type": "code",
   "execution_count": 14,
   "metadata": {},
   "outputs": [
    {
     "data": {
      "text/html": [
       "<div>\n",
       "<style scoped>\n",
       "    .dataframe tbody tr th:only-of-type {\n",
       "        vertical-align: middle;\n",
       "    }\n",
       "\n",
       "    .dataframe tbody tr th {\n",
       "        vertical-align: top;\n",
       "    }\n",
       "\n",
       "    .dataframe thead th {\n",
       "        text-align: right;\n",
       "    }\n",
       "</style>\n",
       "<table border=\"1\" class=\"dataframe\">\n",
       "  <thead>\n",
       "    <tr style=\"text-align: right;\">\n",
       "      <th></th>\n",
       "      <th>names</th>\n",
       "      <th>summary</th>\n",
       "      <th>cusine</th>\n",
       "      <th>price</th>\n",
       "      <th>reviews_count</th>\n",
       "      <th>rating</th>\n",
       "      <th>address</th>\n",
       "      <th>url</th>\n",
       "    </tr>\n",
       "  </thead>\n",
       "  <tbody>\n",
       "    <tr>\n",
       "      <th>0</th>\n",
       "      <td>Restaurant Story</td>\n",
       "      <td>Chef Tom Sellers' novel approach to British cl...</td>\n",
       "      <td>Fine dining restaurant</td>\n",
       "      <td>££££</td>\n",
       "      <td>418 reviews</td>\n",
       "      <td>4.6</td>\n",
       "      <td>199 Tooley St, London SE1 2JX</td>\n",
       "      <td>https://www.google.com/maps/place/Restaurant+S...</td>\n",
       "    </tr>\n",
       "    <tr>\n",
       "      <th>1</th>\n",
       "      <td>Galvin La Chapelle</td>\n",
       "      <td>NaN</td>\n",
       "      <td>French restaurant</td>\n",
       "      <td>££££</td>\n",
       "      <td>1,901 reviews</td>\n",
       "      <td>4.6</td>\n",
       "      <td>NaN</td>\n",
       "      <td>https://www.google.com/maps/place/Galvin+La+Ch...</td>\n",
       "    </tr>\n",
       "    <tr>\n",
       "      <th>2</th>\n",
       "      <td>City Social</td>\n",
       "      <td>NaN</td>\n",
       "      <td>Modern European restaurant</td>\n",
       "      <td>££££</td>\n",
       "      <td>1,187 reviews</td>\n",
       "      <td>4.5</td>\n",
       "      <td>NaN</td>\n",
       "      <td>https://www.google.com/maps/place/City+Social/...</td>\n",
       "    </tr>\n",
       "    <tr>\n",
       "      <th>3</th>\n",
       "      <td>Brawn</td>\n",
       "      <td>Mediterranean small plates menu with an 'all t...</td>\n",
       "      <td>Mediterranean restaurant</td>\n",
       "      <td>££</td>\n",
       "      <td>615 reviews</td>\n",
       "      <td>4.7</td>\n",
       "      <td>49 Columbia Rd, London E2 7RG</td>\n",
       "      <td>https://www.google.com/maps/place/Brawn/@51.52...</td>\n",
       "    </tr>\n",
       "    <tr>\n",
       "      <th>4</th>\n",
       "      <td>Il Bordello</td>\n",
       "      <td>Old-school Italian restaurant with an authenti...</td>\n",
       "      <td>Italian restaurant</td>\n",
       "      <td>££</td>\n",
       "      <td>1,170 reviews</td>\n",
       "      <td>4.5</td>\n",
       "      <td>metropolitan wharf, 70 Wapping Wall, London E1...</td>\n",
       "      <td>https://www.google.com/maps/place/Il+Bordello/...</td>\n",
       "    </tr>\n",
       "  </tbody>\n",
       "</table>\n",
       "</div>"
      ],
      "text/plain": [
       "                names                                            summary  \\\n",
       "0    Restaurant Story  Chef Tom Sellers' novel approach to British cl...   \n",
       "1  Galvin La Chapelle                                                NaN   \n",
       "2         City Social                                                NaN   \n",
       "3               Brawn  Mediterranean small plates menu with an 'all t...   \n",
       "4         Il Bordello  Old-school Italian restaurant with an authenti...   \n",
       "\n",
       "                       cusine price  reviews_count rating  \\\n",
       "0      Fine dining restaurant  ££££    418 reviews    4.6   \n",
       "1           French restaurant  ££££  1,901 reviews    4.6   \n",
       "2  Modern European restaurant  ££££  1,187 reviews    4.5   \n",
       "3    Mediterranean restaurant    ££    615 reviews    4.7   \n",
       "4          Italian restaurant    ££  1,170 reviews    4.5   \n",
       "\n",
       "                                             address  \\\n",
       "0                      199 Tooley St, London SE1 2JX   \n",
       "1                                                NaN   \n",
       "2                                                NaN   \n",
       "3                      49 Columbia Rd, London E2 7RG   \n",
       "4  metropolitan wharf, 70 Wapping Wall, London E1...   \n",
       "\n",
       "                                                 url  \n",
       "0  https://www.google.com/maps/place/Restaurant+S...  \n",
       "1  https://www.google.com/maps/place/Galvin+La+Ch...  \n",
       "2  https://www.google.com/maps/place/City+Social/...  \n",
       "3  https://www.google.com/maps/place/Brawn/@51.52...  \n",
       "4  https://www.google.com/maps/place/Il+Bordello/...  "
      ]
     },
     "execution_count": 14,
     "metadata": {},
     "output_type": "execute_result"
    }
   ],
   "source": [
    "#Load data\n",
    "df = pd.read_csv('data/data_google_maps.csv')\n",
    "\n",
    "df.head()"
   ]
  },
  {
   "cell_type": "code",
   "execution_count": 12,
   "metadata": {},
   "outputs": [],
   "source": [
    "#Remove duplicates, if any \n",
    "df.drop_duplicates()\n",
    "\n",
    "#Remove rows where cusine = \"Not a restaurant\"\n",
    "df = df[df.cusine != 'Not a restaurant']\n",
    "\n",
    "#Remove rows where there are no ratings \n",
    "df = df[df.rating != 'Not Available']\n"
   ]
  },
  {
   "cell_type": "code",
   "execution_count": 13,
   "metadata": {},
   "outputs": [
    {
     "data": {
      "text/plain": [
       "373"
      ]
     },
     "execution_count": 13,
     "metadata": {},
     "output_type": "execute_result"
    }
   ],
   "source": [
    "len(df)"
   ]
  },
  {
   "cell_type": "code",
   "execution_count": null,
   "metadata": {},
   "outputs": [],
   "source": []
  }
 ],
 "metadata": {
  "interpreter": {
   "hash": "b73deb49e4317e1634e6598c4f5693ac751ba82d1598f517dcce0ddf30ad8fdf"
  },
  "kernelspec": {
   "display_name": "Python 3.7.6",
   "language": "python",
   "name": "python3"
  },
  "language_info": {
   "codemirror_mode": {
    "name": "ipython",
    "version": 3
   },
   "file_extension": ".py",
   "mimetype": "text/x-python",
   "name": "python",
   "nbconvert_exporter": "python",
   "pygments_lexer": "ipython3",
   "version": "3.6.13"
  },
  "orig_nbformat": 4
 },
 "nbformat": 4,
 "nbformat_minor": 2
}
