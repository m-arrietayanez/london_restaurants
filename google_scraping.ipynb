{
 "cells": [
  {
   "cell_type": "code",
   "execution_count": 210,
   "metadata": {},
   "outputs": [],
   "source": [
    "from bs4 import BeautifulSoup\n",
    "from splinter import Browser\n",
    "from selenium import webdriver\n",
    "import pandas as pd\n",
    "import time\n",
    "import sys\n",
    "import json\n",
    "import dateparser \n",
    "import requests\n",
    "import lxml\n",
    "from lxml import html\n",
    "from lxml import etree\n",
    "from webdriver_manager.chrome import ChromeDriverManager\n",
    "from selenium.webdriver.support.ui import WebDriverWait\n",
    "from selenium.webdriver.common.by import By\n",
    "from selenium.webdriver.support import expected_conditions as EC\n",
    "from selenium.webdriver.common.action_chains import ActionChains\n",
    "from selenium.webdriver.common.keys import Keys\n",
    "from selenium.webdriver.common.action_chains import ActionChains"
   ]
  },
  {
   "cell_type": "markdown",
   "metadata": {},
   "source": [
    "## Storing the Data"
   ]
  },
  {
   "cell_type": "code",
   "execution_count": 321,
   "metadata": {},
   "outputs": [],
   "source": [
    "#We will be using a dictionary that resembles our main table. \n",
    "restaurants = {}\n",
    "restaurants[\"names\"] = []\n",
    "restaurants[\"cusine\"] = []\n",
    "restaurants[\"price\"] = []\n",
    "restaurants[\"reviews_count\"] = []\n",
    "restaurants[\"rating\"] = []\n",
    "restaurants[\"address\"] = []\n",
    "restaurants[\"url\"] = []\n",
    "\n"
   ]
  },
  {
   "cell_type": "code",
   "execution_count": 319,
   "metadata": {},
   "outputs": [
    {
     "data": {
      "text/plain": [
       "{'names': [],\n",
       " 'cusine': [],\n",
       " 'price': [],\n",
       " 'reviews_count': [],\n",
       " 'rating': [],\n",
       " 'address': [],\n",
       " 'url': []}"
      ]
     },
     "execution_count": 319,
     "metadata": {},
     "output_type": "execute_result"
    }
   ],
   "source": [
    "restaurants"
   ]
  },
  {
   "cell_type": "code",
   "execution_count": 262,
   "metadata": {},
   "outputs": [],
   "source": [
    "def go_next_first_time():\n",
    "    \"\"\"Function to go from one restaurant to the next in Google Maps using Keyboard Control\"\"\"\n",
    "    N = 9  # number of times you want to press TAB\n",
    "\n",
    "    actions = ActionChains(browser) \n",
    "    #Press Tab Key\n",
    "    actions.send_keys(Keys.TAB * N)\n",
    "    actions.send_keys(Keys.SPACE)\n",
    "    actions.perform()\n",
    "time.sleep(3)"
   ]
  },
  {
   "cell_type": "code",
   "execution_count": 263,
   "metadata": {},
   "outputs": [],
   "source": [
    "def go_next():\n",
    "    \"\"\"Function to go from one restaurant to the next in Google Maps using Keyboard Control\"\"\"\n",
    "    N = 2  # number of times you want to press TAB\n",
    "\n",
    "    actions = ActionChains(browser) \n",
    "    #Press Tab Key\n",
    "    actions.send_keys(Keys.TAB * N)\n",
    "    actions.send_keys(Keys.SPACE)\n",
    "    actions.perform()\n",
    "time.sleep(3)"
   ]
  },
  {
   "cell_type": "code",
   "execution_count": 293,
   "metadata": {},
   "outputs": [],
   "source": [
    "def scrape_rest_info():\n",
    "    restaurants[\"names\"].append(browser.find_element_by_class_name(\"x3AX1-LfntMc-header-title-title\").text)\n",
    "    restaurants[\"cusine\"].append(browser.find_element_by_xpath(\"\"\"//*[@id=\"pane\"]/div/div[1]/div/div/div[2]/div[1]/div[1]/div[2]/div/div[2]/span[1]/span[1]/button\"\"\").text)\n",
    "    try:\n",
    "        restaurants[\"price\"].append(browser.find_elements_by_xpath(\"\"\"//*[@id=\"pane\"]/div/div[1]/div/div/div[2]/div[1]/div[1]/div[2]/div/div[1]/span[1]/span/span[2]/span[2]/span[1]/span\"\"\")[0].text)\n",
    "    except IndexError:\n",
    "        restaurants[\"price\"].append(\"Not Available\")\n",
    "    \n",
    "    try:\n",
    "        restaurants[\"rating\"].append(browser.find_element_by_class_name(\"aMPvhf-fI6EEc-KVuj8d\").text)\n",
    "    except:\n",
    "        restaurants[\"rating\"].append(\"Not Available\")\n",
    "    restaurants[\"reviews_count\"].append(browser.find_element_by_class_name(\"Yr7JMd-pane-hSRGPd\").text)\n",
    "    restaurants[\"address\"].append(browser.find_elements_by_class_name(\"QSFF4-text\")[0].text)\n",
    "    restaurants[\"url\"].append(browser.current_url)"
   ]
  },
  {
   "cell_type": "markdown",
   "metadata": {},
   "source": [
    "## Access Google Maps"
   ]
  },
  {
   "cell_type": "code",
   "execution_count": 322,
   "metadata": {},
   "outputs": [
    {
     "name": "stderr",
     "output_type": "stream",
     "text": [
      "\n",
      "\n",
      "====== WebDriver manager ======\n",
      "Current google-chrome version is 98.0.4758\n",
      "Get LATEST chromedriver version for 98.0.4758 google-chrome\n",
      "Driver [/Users/marianaarrieta/.wdm/drivers/chromedriver/mac64/98.0.4758.102/chromedriver] found in cache\n",
      "/opt/miniconda3/lib/python3.7/site-packages/ipykernel_launcher.py:5: DeprecationWarning: executable_path has been deprecated, please pass in a Service object\n",
      "  \"\"\"\n",
      "/opt/miniconda3/lib/python3.7/site-packages/ipykernel_launcher.py:10: DeprecationWarning: find_element_by_* commands are deprecated. Please use find_element() instead\n",
      "  # Remove the CWD from sys.path while we load stuff.\n",
      "/opt/miniconda3/lib/python3.7/site-packages/ipykernel_launcher.py:11: DeprecationWarning: find_element_by_* commands are deprecated. Please use find_element() instead\n",
      "  # This is added back by InteractiveShellApp.init_path()\n"
     ]
    },
    {
     "ename": "NoSuchWindowException",
     "evalue": "Message: no such window: target window already closed\nfrom unknown error: web view not found\n  (Session info: chrome=98.0.4758.109)\nStacktrace:\n0   chromedriver                        0x0000000108481ee9 chromedriver + 5013225\n1   chromedriver                        0x000000010840d1d3 chromedriver + 4534739\n2   chromedriver                        0x0000000107fe3a68 chromedriver + 170600\n3   chromedriver                        0x0000000107fc510e chromedriver + 45326\n4   chromedriver                        0x0000000108038dbc chromedriver + 519612\n5   chromedriver                        0x000000010804770f chromedriver + 579343\n6   chromedriver                        0x00000001080356d3 chromedriver + 505555\n7   chromedriver                        0x000000010800b76e chromedriver + 333678\n8   chromedriver                        0x000000010800c745 chromedriver + 337733\n9   chromedriver                        0x000000010843defe chromedriver + 4734718\n10  chromedriver                        0x0000000108457a19 chromedriver + 4839961\n11  chromedriver                        0x000000010845d1c8 chromedriver + 4862408\n12  chromedriver                        0x00000001084583aa chromedriver + 4842410\n13  chromedriver                        0x0000000108432a01 chromedriver + 4688385\n14  chromedriver                        0x0000000108473538 chromedriver + 4953400\n15  chromedriver                        0x00000001084736c1 chromedriver + 4953793\n16  chromedriver                        0x0000000108489225 chromedriver + 5042725\n17  libsystem_pthread.dylib             0x00007fff2044e8fc _pthread_start + 224\n18  libsystem_pthread.dylib             0x00007fff2044a443 thread_start + 15\n",
     "output_type": "error",
     "traceback": [
      "\u001b[0;31m---------------------------------------------------------------------------\u001b[0m",
      "\u001b[0;31mNoSuchWindowException\u001b[0m                     Traceback (most recent call last)",
      "\u001b[0;32m<ipython-input-322-90fc9179e5f1>\u001b[0m in \u001b[0;36m<module>\u001b[0;34m\u001b[0m\n\u001b[1;32m      9\u001b[0m \u001b[0;31m##clicking on the xpath of the 'agree' button\u001b[0m\u001b[0;34m\u001b[0m\u001b[0;34m\u001b[0m\u001b[0;34m\u001b[0m\u001b[0m\n\u001b[1;32m     10\u001b[0m \u001b[0mbrowser\u001b[0m\u001b[0;34m.\u001b[0m\u001b[0mfind_element_by_xpath\u001b[0m\u001b[0;34m(\u001b[0m\u001b[0;34m'//*[@id=\"yDmH0d\"]/c-wiz/div/div/div/div[2]/div[1]/div[4]/form/div/div/button'\u001b[0m\u001b[0;34m)\u001b[0m\u001b[0;34m.\u001b[0m\u001b[0mclick\u001b[0m\u001b[0;34m(\u001b[0m\u001b[0;34m)\u001b[0m\u001b[0;34m\u001b[0m\u001b[0;34m\u001b[0m\u001b[0m\n\u001b[0;32m---> 11\u001b[0;31m \u001b[0mbrowser\u001b[0m\u001b[0;34m.\u001b[0m\u001b[0mfind_element_by_xpath\u001b[0m\u001b[0;34m(\u001b[0m\u001b[0;34m'//*[@id=\"pane\"]/div/div[1]/div/div/div[2]/div[1]/div[7]/div/a'\u001b[0m\u001b[0;34m)\u001b[0m\u001b[0;34m.\u001b[0m\u001b[0mclick\u001b[0m\u001b[0;34m(\u001b[0m\u001b[0;34m)\u001b[0m\u001b[0;34m\u001b[0m\u001b[0;34m\u001b[0m\u001b[0m\n\u001b[0m\u001b[1;32m     12\u001b[0m \u001b[0mtime\u001b[0m\u001b[0;34m.\u001b[0m\u001b[0msleep\u001b[0m\u001b[0;34m(\u001b[0m\u001b[0;36m3\u001b[0m\u001b[0;34m)\u001b[0m\u001b[0;34m\u001b[0m\u001b[0;34m\u001b[0m\u001b[0m\n\u001b[1;32m     13\u001b[0m \u001b[0;34m\u001b[0m\u001b[0m\n",
      "\u001b[0;32m/opt/miniconda3/lib/python3.7/site-packages/selenium/webdriver/remote/webdriver.py\u001b[0m in \u001b[0;36mfind_element_by_xpath\u001b[0;34m(self, xpath)\u001b[0m\n\u001b[1;32m    518\u001b[0m             \u001b[0mstacklevel\u001b[0m\u001b[0;34m=\u001b[0m\u001b[0;36m2\u001b[0m\u001b[0;34m,\u001b[0m\u001b[0;34m\u001b[0m\u001b[0;34m\u001b[0m\u001b[0m\n\u001b[1;32m    519\u001b[0m         )\n\u001b[0;32m--> 520\u001b[0;31m         \u001b[0;32mreturn\u001b[0m \u001b[0mself\u001b[0m\u001b[0;34m.\u001b[0m\u001b[0mfind_element\u001b[0m\u001b[0;34m(\u001b[0m\u001b[0mby\u001b[0m\u001b[0;34m=\u001b[0m\u001b[0mBy\u001b[0m\u001b[0;34m.\u001b[0m\u001b[0mXPATH\u001b[0m\u001b[0;34m,\u001b[0m \u001b[0mvalue\u001b[0m\u001b[0;34m=\u001b[0m\u001b[0mxpath\u001b[0m\u001b[0;34m)\u001b[0m\u001b[0;34m\u001b[0m\u001b[0;34m\u001b[0m\u001b[0m\n\u001b[0m\u001b[1;32m    521\u001b[0m \u001b[0;34m\u001b[0m\u001b[0m\n\u001b[1;32m    522\u001b[0m     \u001b[0;32mdef\u001b[0m \u001b[0mfind_elements_by_xpath\u001b[0m\u001b[0;34m(\u001b[0m\u001b[0mself\u001b[0m\u001b[0;34m,\u001b[0m \u001b[0mxpath\u001b[0m\u001b[0;34m)\u001b[0m \u001b[0;34m->\u001b[0m \u001b[0mWebElement\u001b[0m\u001b[0;34m:\u001b[0m\u001b[0;34m\u001b[0m\u001b[0;34m\u001b[0m\u001b[0m\n",
      "\u001b[0;32m/opt/miniconda3/lib/python3.7/site-packages/selenium/webdriver/remote/webdriver.py\u001b[0m in \u001b[0;36mfind_element\u001b[0;34m(self, by, value)\u001b[0m\n\u001b[1;32m   1244\u001b[0m         return self.execute(Command.FIND_ELEMENT, {\n\u001b[1;32m   1245\u001b[0m             \u001b[0;34m'using'\u001b[0m\u001b[0;34m:\u001b[0m \u001b[0mby\u001b[0m\u001b[0;34m,\u001b[0m\u001b[0;34m\u001b[0m\u001b[0;34m\u001b[0m\u001b[0m\n\u001b[0;32m-> 1246\u001b[0;31m             'value': value})['value']\n\u001b[0m\u001b[1;32m   1247\u001b[0m \u001b[0;34m\u001b[0m\u001b[0m\n\u001b[1;32m   1248\u001b[0m     \u001b[0;32mdef\u001b[0m \u001b[0mfind_elements\u001b[0m\u001b[0;34m(\u001b[0m\u001b[0mself\u001b[0m\u001b[0;34m,\u001b[0m \u001b[0mby\u001b[0m\u001b[0;34m=\u001b[0m\u001b[0mBy\u001b[0m\u001b[0;34m.\u001b[0m\u001b[0mID\u001b[0m\u001b[0;34m,\u001b[0m \u001b[0mvalue\u001b[0m\u001b[0;34m=\u001b[0m\u001b[0;32mNone\u001b[0m\u001b[0;34m)\u001b[0m \u001b[0;34m->\u001b[0m \u001b[0mList\u001b[0m\u001b[0;34m[\u001b[0m\u001b[0mWebElement\u001b[0m\u001b[0;34m]\u001b[0m\u001b[0;34m:\u001b[0m\u001b[0;34m\u001b[0m\u001b[0;34m\u001b[0m\u001b[0m\n",
      "\u001b[0;32m/opt/miniconda3/lib/python3.7/site-packages/selenium/webdriver/remote/webdriver.py\u001b[0m in \u001b[0;36mexecute\u001b[0;34m(self, driver_command, params)\u001b[0m\n\u001b[1;32m    422\u001b[0m         \u001b[0mresponse\u001b[0m \u001b[0;34m=\u001b[0m \u001b[0mself\u001b[0m\u001b[0;34m.\u001b[0m\u001b[0mcommand_executor\u001b[0m\u001b[0;34m.\u001b[0m\u001b[0mexecute\u001b[0m\u001b[0;34m(\u001b[0m\u001b[0mdriver_command\u001b[0m\u001b[0;34m,\u001b[0m \u001b[0mparams\u001b[0m\u001b[0;34m)\u001b[0m\u001b[0;34m\u001b[0m\u001b[0;34m\u001b[0m\u001b[0m\n\u001b[1;32m    423\u001b[0m         \u001b[0;32mif\u001b[0m \u001b[0mresponse\u001b[0m\u001b[0;34m:\u001b[0m\u001b[0;34m\u001b[0m\u001b[0;34m\u001b[0m\u001b[0m\n\u001b[0;32m--> 424\u001b[0;31m             \u001b[0mself\u001b[0m\u001b[0;34m.\u001b[0m\u001b[0merror_handler\u001b[0m\u001b[0;34m.\u001b[0m\u001b[0mcheck_response\u001b[0m\u001b[0;34m(\u001b[0m\u001b[0mresponse\u001b[0m\u001b[0;34m)\u001b[0m\u001b[0;34m\u001b[0m\u001b[0;34m\u001b[0m\u001b[0m\n\u001b[0m\u001b[1;32m    425\u001b[0m             response['value'] = self._unwrap_value(\n\u001b[1;32m    426\u001b[0m                 response.get('value', None))\n",
      "\u001b[0;32m/opt/miniconda3/lib/python3.7/site-packages/selenium/webdriver/remote/errorhandler.py\u001b[0m in \u001b[0;36mcheck_response\u001b[0;34m(self, response)\u001b[0m\n\u001b[1;32m    245\u001b[0m                 \u001b[0malert_text\u001b[0m \u001b[0;34m=\u001b[0m \u001b[0mvalue\u001b[0m\u001b[0;34m[\u001b[0m\u001b[0;34m'alert'\u001b[0m\u001b[0;34m]\u001b[0m\u001b[0;34m.\u001b[0m\u001b[0mget\u001b[0m\u001b[0;34m(\u001b[0m\u001b[0;34m'text'\u001b[0m\u001b[0;34m)\u001b[0m\u001b[0;34m\u001b[0m\u001b[0;34m\u001b[0m\u001b[0m\n\u001b[1;32m    246\u001b[0m             \u001b[0;32mraise\u001b[0m \u001b[0mexception_class\u001b[0m\u001b[0;34m(\u001b[0m\u001b[0mmessage\u001b[0m\u001b[0;34m,\u001b[0m \u001b[0mscreen\u001b[0m\u001b[0;34m,\u001b[0m \u001b[0mstacktrace\u001b[0m\u001b[0;34m,\u001b[0m \u001b[0malert_text\u001b[0m\u001b[0;34m)\u001b[0m  \u001b[0;31m# type: ignore[call-arg]  # mypy is not smart enough here\u001b[0m\u001b[0;34m\u001b[0m\u001b[0;34m\u001b[0m\u001b[0m\n\u001b[0;32m--> 247\u001b[0;31m         \u001b[0;32mraise\u001b[0m \u001b[0mexception_class\u001b[0m\u001b[0;34m(\u001b[0m\u001b[0mmessage\u001b[0m\u001b[0;34m,\u001b[0m \u001b[0mscreen\u001b[0m\u001b[0;34m,\u001b[0m \u001b[0mstacktrace\u001b[0m\u001b[0;34m)\u001b[0m\u001b[0;34m\u001b[0m\u001b[0;34m\u001b[0m\u001b[0m\n\u001b[0m\u001b[1;32m    248\u001b[0m \u001b[0;34m\u001b[0m\u001b[0m\n\u001b[1;32m    249\u001b[0m     \u001b[0;32mdef\u001b[0m \u001b[0m_value_or_default\u001b[0m\u001b[0;34m(\u001b[0m\u001b[0mself\u001b[0m\u001b[0;34m,\u001b[0m \u001b[0mobj\u001b[0m\u001b[0;34m:\u001b[0m \u001b[0mMapping\u001b[0m\u001b[0;34m[\u001b[0m\u001b[0m_KT\u001b[0m\u001b[0;34m,\u001b[0m \u001b[0m_VT\u001b[0m\u001b[0;34m]\u001b[0m\u001b[0;34m,\u001b[0m \u001b[0mkey\u001b[0m\u001b[0;34m:\u001b[0m \u001b[0m_KT\u001b[0m\u001b[0;34m,\u001b[0m \u001b[0mdefault\u001b[0m\u001b[0;34m:\u001b[0m \u001b[0m_VT\u001b[0m\u001b[0;34m)\u001b[0m \u001b[0;34m->\u001b[0m \u001b[0m_VT\u001b[0m\u001b[0;34m:\u001b[0m\u001b[0;34m\u001b[0m\u001b[0;34m\u001b[0m\u001b[0m\n",
      "\u001b[0;31mNoSuchWindowException\u001b[0m: Message: no such window: target window already closed\nfrom unknown error: web view not found\n  (Session info: chrome=98.0.4758.109)\nStacktrace:\n0   chromedriver                        0x0000000108481ee9 chromedriver + 5013225\n1   chromedriver                        0x000000010840d1d3 chromedriver + 4534739\n2   chromedriver                        0x0000000107fe3a68 chromedriver + 170600\n3   chromedriver                        0x0000000107fc510e chromedriver + 45326\n4   chromedriver                        0x0000000108038dbc chromedriver + 519612\n5   chromedriver                        0x000000010804770f chromedriver + 579343\n6   chromedriver                        0x00000001080356d3 chromedriver + 505555\n7   chromedriver                        0x000000010800b76e chromedriver + 333678\n8   chromedriver                        0x000000010800c745 chromedriver + 337733\n9   chromedriver                        0x000000010843defe chromedriver + 4734718\n10  chromedriver                        0x0000000108457a19 chromedriver + 4839961\n11  chromedriver                        0x000000010845d1c8 chromedriver + 4862408\n12  chromedriver                        0x00000001084583aa chromedriver + 4842410\n13  chromedriver                        0x0000000108432a01 chromedriver + 4688385\n14  chromedriver                        0x0000000108473538 chromedriver + 4953400\n15  chromedriver                        0x00000001084736c1 chromedriver + 4953793\n16  chromedriver                        0x0000000108489225 chromedriver + 5042725\n17  libsystem_pthread.dylib             0x00007fff2044e8fc _pthread_start + 224\n18  libsystem_pthread.dylib             0x00007fff2044a443 thread_start + 15\n"
     ]
    }
   ],
   "source": [
    "#Getting the base url\n",
    "## Links in Google maps can be customized through queries: https://developers.google.com/maps/documentation/urls/get-started\n",
    "###Forming the Search URL -> https://www.google.com/maps/search/?api=1&parameters\n",
    "####Based on this, our base url is https://www.google.com/maps/search/?api=1&query=restaurants+in+london+uk\n",
    "browser = webdriver.Chrome(ChromeDriverManager().install())\n",
    "browser.get('https://www.google.com/maps/search/?api=1&query=restaurants+in+london+uk')\n",
    "time.sleep(5)\n",
    "#The first pop up we get is to accept or customize cookies. Here, we will simply accept them by \n",
    "##clicking on the xpath of the 'agree' button\n",
    "browser.find_element_by_xpath('//*[@id=\"yDmH0d\"]/c-wiz/div/div/div/div[2]/div[1]/div[4]/form/div/div/button').click()\n",
    "browser.find_element_by_xpath('//*[@id=\"pane\"]/div/div[1]/div/div/div[2]/div[1]/div[7]/div/a').click()\n",
    "time.sleep(3)\n",
    "\n",
    "\n",
    "#restaurants[\"address\"].append(browser.find_element_by_xpath('//*[@id=\"pane\"]/div/div[1]/div/div/div[9]/div[1]/button/div[1]/div[2]/div[1]').text)\n",
    "counter = 0\n",
    "page = 1\n",
    "while page < 6:\n",
    "    if counter == 0 and page == 1:\n",
    "        scrape_rest_info()\n",
    "        time.sleep(10)\n",
    "        #Change focus to lower pane\n",
    "        browser.find_element_by_xpath('//*[@id=\"sGi9mc-m5SR9c-bottom-pane\"]/div/div[1]/div/div/div/div[2]/div[1]').click()\n",
    "        go_next_first_time()\n",
    "        counter += 1\n",
    "    elif counter == 0 and page > 1:\n",
    "        time.sleep(5)\n",
    "        #Click on first restaurant below ads\n",
    "        browser.find_element_by_xpath('//*[@id=\"pane\"]/div/div[1]/div/div/div[2]/div[1]/div[7]/div/a').click()\n",
    "        time.sleep(3)\n",
    "        #Get restaurant info\n",
    "        scrape_rest_info()\n",
    "        #Change focus to lower pane\n",
    "        browser.find_element_by_xpath('//*[@id=\"sGi9mc-m5SR9c-bottom-pane\"]/div/div[1]/div/div/div/div[2]/div[1]').click()\n",
    "        go_next_first_time()\n",
    "        counter += 1\n",
    "        time.sleep(5)\n",
    "    elif counter < 18 and page > 0:\n",
    "        go_next()\n",
    "    ###All Restaurants after the first###\n",
    "    \n",
    "        scrape_rest_info()\n",
    "        time.sleep(5)\n",
    "        counter += 1\n",
    "    elif counter == 18 and page > 0:\n",
    "        #Go back\n",
    "        browser.find_element_by_xpath('//*[@id=\"omnibox-singlebox\"]/div[1]/div[1]/button').click()\n",
    "    #Go to next page\n",
    "        time.sleep(5)\n",
    "        browser.find_element_by_xpath('//*[@id=\"ppdPk-Ej1Yeb-LgbsSe-tJiF1e\"]').click()\n",
    "    #Start over\n",
    "        counter = 0\n",
    "        page += 1\n",
    "    \n",
    "\n",
    "browser.close()"
   ]
  },
  {
   "cell_type": "code",
   "execution_count": null,
   "metadata": {},
   "outputs": [],
   "source": []
  },
  {
   "cell_type": "code",
   "execution_count": 232,
   "metadata": {},
   "outputs": [],
   "source": [
    "\n",
    "    "
   ]
  }
 ],
 "metadata": {
  "interpreter": {
   "hash": "3d597f4c481aa0f25dceb95d2a0067e73c0966dcbd003d741d821a7208527ecf"
  },
  "kernelspec": {
   "display_name": "Python 3.7.6 ('base')",
   "language": "python",
   "name": "python3"
  },
  "language_info": {
   "codemirror_mode": {
    "name": "ipython",
    "version": 3
   },
   "file_extension": ".py",
   "mimetype": "text/x-python",
   "name": "python",
   "nbconvert_exporter": "python",
   "pygments_lexer": "ipython3",
   "version": "3.7.6"
  },
  "orig_nbformat": 4
 },
 "nbformat": 4,
 "nbformat_minor": 2
}
