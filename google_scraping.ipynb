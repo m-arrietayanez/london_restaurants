{
 "cells": [
  {
   "cell_type": "code",
   "execution_count": 26,
   "metadata": {},
   "outputs": [],
   "source": [
    "from bs4 import BeautifulSoup\n",
    "from splinter import Browser\n",
    "from selenium import webdriver\n",
    "import time\n",
    "import sys\n",
    "import json\n",
    "import dateparser \n",
    "import requests\n",
    "import lxml\n",
    "from lxml import html\n",
    "from lxml import etree\n",
    "from webdriver_manager.chrome import ChromeDriverManager\n",
    "from selenium.webdriver.support.ui import WebDriverWait\n",
    "from selenium.webdriver.common.by import By\n",
    "from selenium.webdriver.support import expected_conditions as EC\n",
    "from selenium.webdriver.common.action_chains import ActionChains"
   ]
  },
  {
   "cell_type": "markdown",
   "metadata": {},
   "source": [
    "## Storing the Data"
   ]
  },
  {
   "cell_type": "code",
   "execution_count": 135,
   "metadata": {},
   "outputs": [],
   "source": [
    "#We will be using a dictionary that resembles our main table. \n",
    "restaurants = {}\n",
    "restaurants[\"names\"] = []\n",
    "restaurants[\"cusine\"] = []\n",
    "restaurants[\"price\"] = []\n",
    "restaurants[\"reviews_count\"] = []\n",
    "restaurants[\"rating\"] = []\n",
    "restaurants[\"address\"] = []\n",
    "restaurants[\"url\"] = []\n",
    "\n"
   ]
  },
  {
   "cell_type": "code",
   "execution_count": 131,
   "metadata": {},
   "outputs": [
    {
     "data": {
      "text/plain": [
       "{'names': ['Archipelago'],\n",
       " 'cusine': ['Eclectic restaurant'],\n",
       " 'price': ['£££'],\n",
       " 'reviews_count': ['376 reviews'],\n",
       " 'rating': ['4.5'],\n",
       " 'address': ['53 Cleveland St, London W1T 4JJ'],\n",
       " 'url': ['https://www.google.com/maps/place/Archipelago/@51.4848436,-0.164514,12z/data=!4m9!1m2!2m1!1srestaurants+in+london+uk!3m5!1s0x48761b28ff4c92f1:0xcc0da3fd3ada4401!8m2!3d51.5204806!4d-0.13881!15sChhyZXN0YXVyYW50cyBpbiBsb25kb24gdWtaGiIYcmVzdGF1cmFudHMgaW4gbG9uZG9uIHVrkgETZWNsZWN0aWNfcmVzdGF1cmFudA']}"
      ]
     },
     "execution_count": 131,
     "metadata": {},
     "output_type": "execute_result"
    }
   ],
   "source": [
    "restaurants"
   ]
  },
  {
   "cell_type": "markdown",
   "metadata": {},
   "source": [
    "## Access Google Maps"
   ]
  },
  {
   "cell_type": "code",
   "execution_count": 136,
   "metadata": {},
   "outputs": [
    {
     "name": "stderr",
     "output_type": "stream",
     "text": [
      "\n",
      "\n",
      "====== WebDriver manager ======\n",
      "Current google-chrome version is 98.0.4758\n",
      "Get LATEST chromedriver version for 98.0.4758 google-chrome\n",
      "Driver [/Users/marianaarrieta/.wdm/drivers/chromedriver/mac64/98.0.4758.102/chromedriver] found in cache\n",
      "/opt/miniconda3/lib/python3.7/site-packages/ipykernel_launcher.py:5: DeprecationWarning: executable_path has been deprecated, please pass in a Service object\n",
      "  \"\"\"\n",
      "/opt/miniconda3/lib/python3.7/site-packages/ipykernel_launcher.py:10: DeprecationWarning: find_element_by_* commands are deprecated. Please use find_element() instead\n",
      "  # Remove the CWD from sys.path while we load stuff.\n",
      "/opt/miniconda3/lib/python3.7/site-packages/ipykernel_launcher.py:11: DeprecationWarning: find_element_by_* commands are deprecated. Please use find_element() instead\n",
      "  # This is added back by InteractiveShellApp.init_path()\n",
      "/opt/miniconda3/lib/python3.7/site-packages/ipykernel_launcher.py:13: DeprecationWarning: find_element_by_* commands are deprecated. Please use find_element() instead\n",
      "  del sys.path[0]\n",
      "/opt/miniconda3/lib/python3.7/site-packages/ipykernel_launcher.py:14: DeprecationWarning: find_element_by_* commands are deprecated. Please use find_element() instead\n",
      "  \n",
      "/opt/miniconda3/lib/python3.7/site-packages/ipykernel_launcher.py:15: DeprecationWarning: find_elements_by_* commands are deprecated. Please use find_elements() instead\n",
      "  from ipykernel import kernelapp as app\n",
      "/opt/miniconda3/lib/python3.7/site-packages/ipykernel_launcher.py:16: DeprecationWarning: find_element_by_* commands are deprecated. Please use find_element() instead\n",
      "  app.launch_new_instance()\n",
      "/opt/miniconda3/lib/python3.7/site-packages/ipykernel_launcher.py:17: DeprecationWarning: find_element_by_* commands are deprecated. Please use find_element() instead\n",
      "/opt/miniconda3/lib/python3.7/site-packages/ipykernel_launcher.py:18: DeprecationWarning: find_elements_by_* commands are deprecated. Please use find_elements() instead\n",
      "/opt/miniconda3/lib/python3.7/site-packages/ipykernel_launcher.py:20: DeprecationWarning: find_element_by_* commands are deprecated. Please use find_element() instead\n",
      "/opt/miniconda3/lib/python3.7/site-packages/ipykernel_launcher.py:21: DeprecationWarning: find_element_by_* commands are deprecated. Please use find_element() instead\n",
      "/opt/miniconda3/lib/python3.7/site-packages/ipykernel_launcher.py:22: DeprecationWarning: find_element_by_* commands are deprecated. Please use find_element() instead\n"
     ]
    },
    {
     "ename": "NoSuchElementException",
     "evalue": "Message: no such element: Unable to locate element: {\"method\":\"xpath\",\"selector\":\"//*[@id=\"pane\"]/div/div[1]/div/div/div[2]/div[1]/div[1]/div[1]/h1/span[1]\"}\n  (Session info: chrome=98.0.4758.102)\nStacktrace:\n0   chromedriver                        0x000000010b0dfee9 chromedriver + 5013225\n1   chromedriver                        0x000000010b06b1d3 chromedriver + 4534739\n2   chromedriver                        0x000000010ac41a68 chromedriver + 170600\n3   chromedriver                        0x000000010ac76152 chromedriver + 385362\n4   chromedriver                        0x000000010ac76311 chromedriver + 385809\n5   chromedriver                        0x000000010aca8324 chromedriver + 590628\n6   chromedriver                        0x000000010ac9380d chromedriver + 505869\n7   chromedriver                        0x000000010aca6074 chromedriver + 581748\n8   chromedriver                        0x000000010ac936d3 chromedriver + 505555\n9   chromedriver                        0x000000010ac6976e chromedriver + 333678\n10  chromedriver                        0x000000010ac6a745 chromedriver + 337733\n11  chromedriver                        0x000000010b09befe chromedriver + 4734718\n12  chromedriver                        0x000000010b0b5a19 chromedriver + 4839961\n13  chromedriver                        0x000000010b0bb1c8 chromedriver + 4862408\n14  chromedriver                        0x000000010b0b63aa chromedriver + 4842410\n15  chromedriver                        0x000000010b090a01 chromedriver + 4688385\n16  chromedriver                        0x000000010b0d1538 chromedriver + 4953400\n17  chromedriver                        0x000000010b0d16c1 chromedriver + 4953793\n18  chromedriver                        0x000000010b0e7225 chromedriver + 5042725\n19  libsystem_pthread.dylib             0x00007fff2044e8fc _pthread_start + 224\n20  libsystem_pthread.dylib             0x00007fff2044a443 thread_start + 15\n",
     "output_type": "error",
     "traceback": [
      "\u001b[0;31m---------------------------------------------------------------------------\u001b[0m",
      "\u001b[0;31mNoSuchElementException\u001b[0m                    Traceback (most recent call last)",
      "\u001b[0;32m<ipython-input-136-cd5bd39ac48a>\u001b[0m in \u001b[0;36m<module>\u001b[0;34m\u001b[0m\n\u001b[1;32m     20\u001b[0m \u001b[0mbrowser\u001b[0m\u001b[0;34m.\u001b[0m\u001b[0mfind_element_by_xpath\u001b[0m\u001b[0;34m(\u001b[0m\u001b[0;34m'//*[@id=\"omnibox-singlebox\"]/div[1]/div[1]/button'\u001b[0m\u001b[0;34m)\u001b[0m\u001b[0;34m.\u001b[0m\u001b[0mclick\u001b[0m\u001b[0;34m(\u001b[0m\u001b[0;34m)\u001b[0m\u001b[0;34m\u001b[0m\u001b[0;34m\u001b[0m\u001b[0m\n\u001b[1;32m     21\u001b[0m \u001b[0mbrowser\u001b[0m\u001b[0;34m.\u001b[0m\u001b[0mfind_element_by_xpath\u001b[0m\u001b[0;34m(\u001b[0m\u001b[0;34m'//*[@id=\"pane\"]/div/div[1]/div/div/div[2]/div[1]/div[9]/div/a'\u001b[0m\u001b[0;34m)\u001b[0m\u001b[0;34m.\u001b[0m\u001b[0mclick\u001b[0m\u001b[0;34m(\u001b[0m\u001b[0;34m)\u001b[0m\u001b[0;34m\u001b[0m\u001b[0;34m\u001b[0m\u001b[0m\n\u001b[0;32m---> 22\u001b[0;31m \u001b[0mrestaurants\u001b[0m\u001b[0;34m[\u001b[0m\u001b[0;34m\"names\"\u001b[0m\u001b[0;34m]\u001b[0m\u001b[0;34m.\u001b[0m\u001b[0mappend\u001b[0m\u001b[0;34m(\u001b[0m\u001b[0mbrowser\u001b[0m\u001b[0;34m.\u001b[0m\u001b[0mfind_element_by_xpath\u001b[0m\u001b[0;34m(\u001b[0m\u001b[0;34m\"\"\"//*[@id=\"pane\"]/div/div[1]/div/div/div[2]/div[1]/div[1]/div[1]/h1/span[1]\"\"\"\u001b[0m\u001b[0;34m)\u001b[0m\u001b[0;34m.\u001b[0m\u001b[0mtext\u001b[0m\u001b[0;34m)\u001b[0m\u001b[0;34m\u001b[0m\u001b[0;34m\u001b[0m\u001b[0m\n\u001b[0m\u001b[1;32m     23\u001b[0m \u001b[0mbrowser\u001b[0m\u001b[0;34m.\u001b[0m\u001b[0mclose\u001b[0m\u001b[0;34m(\u001b[0m\u001b[0;34m)\u001b[0m\u001b[0;34m\u001b[0m\u001b[0;34m\u001b[0m\u001b[0m\n",
      "\u001b[0;32m/opt/miniconda3/lib/python3.7/site-packages/selenium/webdriver/remote/webdriver.py\u001b[0m in \u001b[0;36mfind_element_by_xpath\u001b[0;34m(self, xpath)\u001b[0m\n\u001b[1;32m    518\u001b[0m             \u001b[0mstacklevel\u001b[0m\u001b[0;34m=\u001b[0m\u001b[0;36m2\u001b[0m\u001b[0;34m,\u001b[0m\u001b[0;34m\u001b[0m\u001b[0;34m\u001b[0m\u001b[0m\n\u001b[1;32m    519\u001b[0m         )\n\u001b[0;32m--> 520\u001b[0;31m         \u001b[0;32mreturn\u001b[0m \u001b[0mself\u001b[0m\u001b[0;34m.\u001b[0m\u001b[0mfind_element\u001b[0m\u001b[0;34m(\u001b[0m\u001b[0mby\u001b[0m\u001b[0;34m=\u001b[0m\u001b[0mBy\u001b[0m\u001b[0;34m.\u001b[0m\u001b[0mXPATH\u001b[0m\u001b[0;34m,\u001b[0m \u001b[0mvalue\u001b[0m\u001b[0;34m=\u001b[0m\u001b[0mxpath\u001b[0m\u001b[0;34m)\u001b[0m\u001b[0;34m\u001b[0m\u001b[0;34m\u001b[0m\u001b[0m\n\u001b[0m\u001b[1;32m    521\u001b[0m \u001b[0;34m\u001b[0m\u001b[0m\n\u001b[1;32m    522\u001b[0m     \u001b[0;32mdef\u001b[0m \u001b[0mfind_elements_by_xpath\u001b[0m\u001b[0;34m(\u001b[0m\u001b[0mself\u001b[0m\u001b[0;34m,\u001b[0m \u001b[0mxpath\u001b[0m\u001b[0;34m)\u001b[0m \u001b[0;34m->\u001b[0m \u001b[0mWebElement\u001b[0m\u001b[0;34m:\u001b[0m\u001b[0;34m\u001b[0m\u001b[0;34m\u001b[0m\u001b[0m\n",
      "\u001b[0;32m/opt/miniconda3/lib/python3.7/site-packages/selenium/webdriver/remote/webdriver.py\u001b[0m in \u001b[0;36mfind_element\u001b[0;34m(self, by, value)\u001b[0m\n\u001b[1;32m   1244\u001b[0m         return self.execute(Command.FIND_ELEMENT, {\n\u001b[1;32m   1245\u001b[0m             \u001b[0;34m'using'\u001b[0m\u001b[0;34m:\u001b[0m \u001b[0mby\u001b[0m\u001b[0;34m,\u001b[0m\u001b[0;34m\u001b[0m\u001b[0;34m\u001b[0m\u001b[0m\n\u001b[0;32m-> 1246\u001b[0;31m             'value': value})['value']\n\u001b[0m\u001b[1;32m   1247\u001b[0m \u001b[0;34m\u001b[0m\u001b[0m\n\u001b[1;32m   1248\u001b[0m     \u001b[0;32mdef\u001b[0m \u001b[0mfind_elements\u001b[0m\u001b[0;34m(\u001b[0m\u001b[0mself\u001b[0m\u001b[0;34m,\u001b[0m \u001b[0mby\u001b[0m\u001b[0;34m=\u001b[0m\u001b[0mBy\u001b[0m\u001b[0;34m.\u001b[0m\u001b[0mID\u001b[0m\u001b[0;34m,\u001b[0m \u001b[0mvalue\u001b[0m\u001b[0;34m=\u001b[0m\u001b[0;32mNone\u001b[0m\u001b[0;34m)\u001b[0m \u001b[0;34m->\u001b[0m \u001b[0mList\u001b[0m\u001b[0;34m[\u001b[0m\u001b[0mWebElement\u001b[0m\u001b[0;34m]\u001b[0m\u001b[0;34m:\u001b[0m\u001b[0;34m\u001b[0m\u001b[0;34m\u001b[0m\u001b[0m\n",
      "\u001b[0;32m/opt/miniconda3/lib/python3.7/site-packages/selenium/webdriver/remote/webdriver.py\u001b[0m in \u001b[0;36mexecute\u001b[0;34m(self, driver_command, params)\u001b[0m\n\u001b[1;32m    422\u001b[0m         \u001b[0mresponse\u001b[0m \u001b[0;34m=\u001b[0m \u001b[0mself\u001b[0m\u001b[0;34m.\u001b[0m\u001b[0mcommand_executor\u001b[0m\u001b[0;34m.\u001b[0m\u001b[0mexecute\u001b[0m\u001b[0;34m(\u001b[0m\u001b[0mdriver_command\u001b[0m\u001b[0;34m,\u001b[0m \u001b[0mparams\u001b[0m\u001b[0;34m)\u001b[0m\u001b[0;34m\u001b[0m\u001b[0;34m\u001b[0m\u001b[0m\n\u001b[1;32m    423\u001b[0m         \u001b[0;32mif\u001b[0m \u001b[0mresponse\u001b[0m\u001b[0;34m:\u001b[0m\u001b[0;34m\u001b[0m\u001b[0;34m\u001b[0m\u001b[0m\n\u001b[0;32m--> 424\u001b[0;31m             \u001b[0mself\u001b[0m\u001b[0;34m.\u001b[0m\u001b[0merror_handler\u001b[0m\u001b[0;34m.\u001b[0m\u001b[0mcheck_response\u001b[0m\u001b[0;34m(\u001b[0m\u001b[0mresponse\u001b[0m\u001b[0;34m)\u001b[0m\u001b[0;34m\u001b[0m\u001b[0;34m\u001b[0m\u001b[0m\n\u001b[0m\u001b[1;32m    425\u001b[0m             response['value'] = self._unwrap_value(\n\u001b[1;32m    426\u001b[0m                 response.get('value', None))\n",
      "\u001b[0;32m/opt/miniconda3/lib/python3.7/site-packages/selenium/webdriver/remote/errorhandler.py\u001b[0m in \u001b[0;36mcheck_response\u001b[0;34m(self, response)\u001b[0m\n\u001b[1;32m    245\u001b[0m                 \u001b[0malert_text\u001b[0m \u001b[0;34m=\u001b[0m \u001b[0mvalue\u001b[0m\u001b[0;34m[\u001b[0m\u001b[0;34m'alert'\u001b[0m\u001b[0;34m]\u001b[0m\u001b[0;34m.\u001b[0m\u001b[0mget\u001b[0m\u001b[0;34m(\u001b[0m\u001b[0;34m'text'\u001b[0m\u001b[0;34m)\u001b[0m\u001b[0;34m\u001b[0m\u001b[0;34m\u001b[0m\u001b[0m\n\u001b[1;32m    246\u001b[0m             \u001b[0;32mraise\u001b[0m \u001b[0mexception_class\u001b[0m\u001b[0;34m(\u001b[0m\u001b[0mmessage\u001b[0m\u001b[0;34m,\u001b[0m \u001b[0mscreen\u001b[0m\u001b[0;34m,\u001b[0m \u001b[0mstacktrace\u001b[0m\u001b[0;34m,\u001b[0m \u001b[0malert_text\u001b[0m\u001b[0;34m)\u001b[0m  \u001b[0;31m# type: ignore[call-arg]  # mypy is not smart enough here\u001b[0m\u001b[0;34m\u001b[0m\u001b[0;34m\u001b[0m\u001b[0m\n\u001b[0;32m--> 247\u001b[0;31m         \u001b[0;32mraise\u001b[0m \u001b[0mexception_class\u001b[0m\u001b[0;34m(\u001b[0m\u001b[0mmessage\u001b[0m\u001b[0;34m,\u001b[0m \u001b[0mscreen\u001b[0m\u001b[0;34m,\u001b[0m \u001b[0mstacktrace\u001b[0m\u001b[0;34m)\u001b[0m\u001b[0;34m\u001b[0m\u001b[0;34m\u001b[0m\u001b[0m\n\u001b[0m\u001b[1;32m    248\u001b[0m \u001b[0;34m\u001b[0m\u001b[0m\n\u001b[1;32m    249\u001b[0m     \u001b[0;32mdef\u001b[0m \u001b[0m_value_or_default\u001b[0m\u001b[0;34m(\u001b[0m\u001b[0mself\u001b[0m\u001b[0;34m,\u001b[0m \u001b[0mobj\u001b[0m\u001b[0;34m:\u001b[0m \u001b[0mMapping\u001b[0m\u001b[0;34m[\u001b[0m\u001b[0m_KT\u001b[0m\u001b[0;34m,\u001b[0m \u001b[0m_VT\u001b[0m\u001b[0;34m]\u001b[0m\u001b[0;34m,\u001b[0m \u001b[0mkey\u001b[0m\u001b[0;34m:\u001b[0m \u001b[0m_KT\u001b[0m\u001b[0;34m,\u001b[0m \u001b[0mdefault\u001b[0m\u001b[0;34m:\u001b[0m \u001b[0m_VT\u001b[0m\u001b[0;34m)\u001b[0m \u001b[0;34m->\u001b[0m \u001b[0m_VT\u001b[0m\u001b[0;34m:\u001b[0m\u001b[0;34m\u001b[0m\u001b[0;34m\u001b[0m\u001b[0m\n",
      "\u001b[0;31mNoSuchElementException\u001b[0m: Message: no such element: Unable to locate element: {\"method\":\"xpath\",\"selector\":\"//*[@id=\"pane\"]/div/div[1]/div/div/div[2]/div[1]/div[1]/div[1]/h1/span[1]\"}\n  (Session info: chrome=98.0.4758.102)\nStacktrace:\n0   chromedriver                        0x000000010b0dfee9 chromedriver + 5013225\n1   chromedriver                        0x000000010b06b1d3 chromedriver + 4534739\n2   chromedriver                        0x000000010ac41a68 chromedriver + 170600\n3   chromedriver                        0x000000010ac76152 chromedriver + 385362\n4   chromedriver                        0x000000010ac76311 chromedriver + 385809\n5   chromedriver                        0x000000010aca8324 chromedriver + 590628\n6   chromedriver                        0x000000010ac9380d chromedriver + 505869\n7   chromedriver                        0x000000010aca6074 chromedriver + 581748\n8   chromedriver                        0x000000010ac936d3 chromedriver + 505555\n9   chromedriver                        0x000000010ac6976e chromedriver + 333678\n10  chromedriver                        0x000000010ac6a745 chromedriver + 337733\n11  chromedriver                        0x000000010b09befe chromedriver + 4734718\n12  chromedriver                        0x000000010b0b5a19 chromedriver + 4839961\n13  chromedriver                        0x000000010b0bb1c8 chromedriver + 4862408\n14  chromedriver                        0x000000010b0b63aa chromedriver + 4842410\n15  chromedriver                        0x000000010b090a01 chromedriver + 4688385\n16  chromedriver                        0x000000010b0d1538 chromedriver + 4953400\n17  chromedriver                        0x000000010b0d16c1 chromedriver + 4953793\n18  chromedriver                        0x000000010b0e7225 chromedriver + 5042725\n19  libsystem_pthread.dylib             0x00007fff2044e8fc _pthread_start + 224\n20  libsystem_pthread.dylib             0x00007fff2044a443 thread_start + 15\n"
     ]
    }
   ],
   "source": [
    "#Getting the base url\n",
    "## Links in Google maps can be customized through queries: https://developers.google.com/maps/documentation/urls/get-started\n",
    "###Forming the Search URL -> https://www.google.com/maps/search/?api=1&parameters\n",
    "####Based on this, our base url is https://www.google.com/maps/search/?api=1&query=restaurants+in+london+uk\n",
    "browser = webdriver.Chrome(ChromeDriverManager().install())\n",
    "browser.get('https://www.google.com/maps/search/?api=1&query=restaurants+in+london+uk')\n",
    "time.sleep(5)\n",
    "#The first pop up we get is to accept or customize cookies. Here, we will simply accept them by \n",
    "##clicking on the xpath of the 'agree' button\n",
    "browser.find_element_by_xpath('//*[@id=\"yDmH0d\"]/c-wiz/div/div/div/div[2]/div[1]/div[4]/form/div/div/button').click()\n",
    "browser.find_element_by_xpath('//*[@id=\"pane\"]/div/div[1]/div/div/div[2]/div[1]/div[7]/div/a').click()\n",
    "time.sleep(3)\n",
    "restaurants[\"names\"].append(browser.find_element_by_class_name(\"x3AX1-LfntMc-header-title-title\").text)\n",
    "restaurants[\"cusine\"].append(browser.find_element_by_xpath(\"\"\"//*[@id=\"pane\"]/div/div[1]/div/div/div[2]/div[1]/div[1]/div[2]/div/div[2]/span[1]/span[1]/button\"\"\").text)\n",
    "restaurants[\"price\"].append(browser.find_elements_by_xpath(\"\"\"//*[@id=\"pane\"]/div/div[1]/div/div/div[2]/div[1]/div[1]/div[2]/div/div[1]/span[1]/span/span[2]/span[2]/span[1]/span\"\"\")[0].text)\n",
    "restaurants[\"rating\"].append(browser.find_element_by_class_name(\"aMPvhf-fI6EEc-KVuj8d\").text)\n",
    "restaurants[\"reviews_count\"].append(browser.find_element_by_class_name(\"Yr7JMd-pane-hSRGPd\").text)\n",
    "restaurants[\"address\"].append(browser.find_elements_by_class_name(\"QSFF4-text\")[0].text)\n",
    "restaurants[\"url\"].append(browser.current_url)\n",
    "#browser.find_element_by_xpath('//*[@id=\"omnibox-singlebox\"]/div[1]/div[1]/button').click()\n",
    "#browser.find_element_by_xpath('//*[@id=\"pane\"]/div/div[1]/div/div/div[2]/div[1]/div[9]/div/a').click()\n",
    "#restaurants[\"names\"].append(browser.find_element_by_xpath(\"\"\"//*[@id=\"pane\"]/div/div[1]/div/div/div[2]/div[1]/div[1]/div[1]/h1/span[1]\"\"\").text)\n",
    "browser.close()"
   ]
  },
  {
   "cell_type": "code",
   "execution_count": 52,
   "metadata": {},
   "outputs": [],
   "source": []
  },
  {
   "cell_type": "code",
   "execution_count": 35,
   "metadata": {},
   "outputs": [],
   "source": []
  }
 ],
 "metadata": {
  "interpreter": {
   "hash": "3d597f4c481aa0f25dceb95d2a0067e73c0966dcbd003d741d821a7208527ecf"
  },
  "kernelspec": {
   "display_name": "Python 3.7.6 ('base')",
   "language": "python",
   "name": "python3"
  },
  "language_info": {
   "codemirror_mode": {
    "name": "ipython",
    "version": 3
   },
   "file_extension": ".py",
   "mimetype": "text/x-python",
   "name": "python",
   "nbconvert_exporter": "python",
   "pygments_lexer": "ipython3",
   "version": "3.7.6"
  },
  "orig_nbformat": 4
 },
 "nbformat": 4,
 "nbformat_minor": 2
}
