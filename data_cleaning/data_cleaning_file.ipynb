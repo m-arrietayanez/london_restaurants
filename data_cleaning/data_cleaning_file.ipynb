{
 "cells": [
  {
   "cell_type": "code",
   "execution_count": 14,
   "metadata": {},
   "outputs": [],
   "source": [
    "import pandas as pd\n",
    "import numpy as np\n",
    "import sqlite3"
   ]
  },
  {
   "cell_type": "code",
   "execution_count": 27,
   "metadata": {},
   "outputs": [],
   "source": [
    "#Load data\n",
    "google_df = pd.read_csv('/Users/marianaarrieta/Documents/Data_Projects/london_restaurants/raw_data/data_google_maps.csv')\n",
    "opentable_df = pd.read_csv('/Users/marianaarrieta/Documents/Data_Projects/london_restaurants/raw_data/opentable_data.csv')\n"
   ]
  },
  {
   "cell_type": "code",
   "execution_count": 9,
   "metadata": {},
   "outputs": [
    {
     "data": {
      "text/html": [
       "<div>\n",
       "<style scoped>\n",
       "    .dataframe tbody tr th:only-of-type {\n",
       "        vertical-align: middle;\n",
       "    }\n",
       "\n",
       "    .dataframe tbody tr th {\n",
       "        vertical-align: top;\n",
       "    }\n",
       "\n",
       "    .dataframe thead th {\n",
       "        text-align: right;\n",
       "    }\n",
       "</style>\n",
       "<table border=\"1\" class=\"dataframe\">\n",
       "  <thead>\n",
       "    <tr style=\"text-align: right;\">\n",
       "      <th></th>\n",
       "      <th>names</th>\n",
       "      <th>summary</th>\n",
       "      <th>cusine</th>\n",
       "      <th>price</th>\n",
       "      <th>reviews_count</th>\n",
       "      <th>rating</th>\n",
       "      <th>address</th>\n",
       "      <th>url</th>\n",
       "    </tr>\n",
       "  </thead>\n",
       "  <tbody>\n",
       "    <tr>\n",
       "      <th>0</th>\n",
       "      <td>Restaurant Story</td>\n",
       "      <td>Chef Tom Sellers' novel approach to British cl...</td>\n",
       "      <td>Fine dining restaurant</td>\n",
       "      <td>££££</td>\n",
       "      <td>418 reviews</td>\n",
       "      <td>4.6</td>\n",
       "      <td>199 Tooley St, London SE1 2JX</td>\n",
       "      <td>https://www.google.com/maps/place/Restaurant+S...</td>\n",
       "    </tr>\n",
       "    <tr>\n",
       "      <th>1</th>\n",
       "      <td>Galvin La Chapelle</td>\n",
       "      <td>NaN</td>\n",
       "      <td>French restaurant</td>\n",
       "      <td>££££</td>\n",
       "      <td>1,901 reviews</td>\n",
       "      <td>4.6</td>\n",
       "      <td>NaN</td>\n",
       "      <td>https://www.google.com/maps/place/Galvin+La+Ch...</td>\n",
       "    </tr>\n",
       "    <tr>\n",
       "      <th>2</th>\n",
       "      <td>City Social</td>\n",
       "      <td>NaN</td>\n",
       "      <td>Modern European restaurant</td>\n",
       "      <td>££££</td>\n",
       "      <td>1,187 reviews</td>\n",
       "      <td>4.5</td>\n",
       "      <td>NaN</td>\n",
       "      <td>https://www.google.com/maps/place/City+Social/...</td>\n",
       "    </tr>\n",
       "    <tr>\n",
       "      <th>3</th>\n",
       "      <td>Brawn</td>\n",
       "      <td>Mediterranean small plates menu with an 'all t...</td>\n",
       "      <td>Mediterranean restaurant</td>\n",
       "      <td>££</td>\n",
       "      <td>615 reviews</td>\n",
       "      <td>4.7</td>\n",
       "      <td>49 Columbia Rd, London E2 7RG</td>\n",
       "      <td>https://www.google.com/maps/place/Brawn/@51.52...</td>\n",
       "    </tr>\n",
       "    <tr>\n",
       "      <th>4</th>\n",
       "      <td>Il Bordello</td>\n",
       "      <td>Old-school Italian restaurant with an authenti...</td>\n",
       "      <td>Italian restaurant</td>\n",
       "      <td>££</td>\n",
       "      <td>1,170 reviews</td>\n",
       "      <td>4.5</td>\n",
       "      <td>metropolitan wharf, 70 Wapping Wall, London E1...</td>\n",
       "      <td>https://www.google.com/maps/place/Il+Bordello/...</td>\n",
       "    </tr>\n",
       "  </tbody>\n",
       "</table>\n",
       "</div>"
      ],
      "text/plain": [
       "                names                                            summary  \\\n",
       "0    Restaurant Story  Chef Tom Sellers' novel approach to British cl...   \n",
       "1  Galvin La Chapelle                                                NaN   \n",
       "2         City Social                                                NaN   \n",
       "3               Brawn  Mediterranean small plates menu with an 'all t...   \n",
       "4         Il Bordello  Old-school Italian restaurant with an authenti...   \n",
       "\n",
       "                       cusine price  reviews_count rating  \\\n",
       "0      Fine dining restaurant  ££££    418 reviews    4.6   \n",
       "1           French restaurant  ££££  1,901 reviews    4.6   \n",
       "2  Modern European restaurant  ££££  1,187 reviews    4.5   \n",
       "3    Mediterranean restaurant    ££    615 reviews    4.7   \n",
       "4          Italian restaurant    ££  1,170 reviews    4.5   \n",
       "\n",
       "                                             address  \\\n",
       "0                      199 Tooley St, London SE1 2JX   \n",
       "1                                                NaN   \n",
       "2                                                NaN   \n",
       "3                      49 Columbia Rd, London E2 7RG   \n",
       "4  metropolitan wharf, 70 Wapping Wall, London E1...   \n",
       "\n",
       "                                                 url  \n",
       "0  https://www.google.com/maps/place/Restaurant+S...  \n",
       "1  https://www.google.com/maps/place/Galvin+La+Ch...  \n",
       "2  https://www.google.com/maps/place/City+Social/...  \n",
       "3  https://www.google.com/maps/place/Brawn/@51.52...  \n",
       "4  https://www.google.com/maps/place/Il+Bordello/...  "
      ]
     },
     "execution_count": 9,
     "metadata": {},
     "output_type": "execute_result"
    }
   ],
   "source": [
    "google_df.head()"
   ]
  },
  {
   "cell_type": "code",
   "execution_count": 10,
   "metadata": {},
   "outputs": [
    {
     "data": {
      "text/html": [
       "<div>\n",
       "<style scoped>\n",
       "    .dataframe tbody tr th:only-of-type {\n",
       "        vertical-align: middle;\n",
       "    }\n",
       "\n",
       "    .dataframe tbody tr th {\n",
       "        vertical-align: top;\n",
       "    }\n",
       "\n",
       "    .dataframe thead th {\n",
       "        text-align: right;\n",
       "    }\n",
       "</style>\n",
       "<table border=\"1\" class=\"dataframe\">\n",
       "  <thead>\n",
       "    <tr style=\"text-align: right;\">\n",
       "      <th></th>\n",
       "      <th>names</th>\n",
       "      <th>cuisine</th>\n",
       "      <th>price</th>\n",
       "      <th>reviews</th>\n",
       "      <th>rating</th>\n",
       "      <th>bookings</th>\n",
       "      <th>address</th>\n",
       "    </tr>\n",
       "  </thead>\n",
       "  <tbody>\n",
       "    <tr>\n",
       "      <th>0</th>\n",
       "      <td>Seasons Mayfair</td>\n",
       "      <td>Fish</td>\n",
       "      <td>4</td>\n",
       "      <td>41.0</td>\n",
       "      <td>4.3</td>\n",
       "      <td>8.0</td>\n",
       "      <td>Mayfair</td>\n",
       "    </tr>\n",
       "    <tr>\n",
       "      <th>1</th>\n",
       "      <td>PAPA L's KITCHEN</td>\n",
       "      <td>African</td>\n",
       "      <td>4</td>\n",
       "      <td>257.0</td>\n",
       "      <td>4.6</td>\n",
       "      <td>6.0</td>\n",
       "      <td>St. James's</td>\n",
       "    </tr>\n",
       "    <tr>\n",
       "      <th>2</th>\n",
       "      <td>Coqbull Soho</td>\n",
       "      <td>Rotisserie Chicken</td>\n",
       "      <td>2</td>\n",
       "      <td>175.0</td>\n",
       "      <td>4.1</td>\n",
       "      <td>47.0</td>\n",
       "      <td>Soho</td>\n",
       "    </tr>\n",
       "    <tr>\n",
       "      <th>3</th>\n",
       "      <td>Ham Yard Bar and Restaurant</td>\n",
       "      <td>Modern European</td>\n",
       "      <td>2</td>\n",
       "      <td>3696.0</td>\n",
       "      <td>4.6</td>\n",
       "      <td>92.0</td>\n",
       "      <td>Soho</td>\n",
       "    </tr>\n",
       "    <tr>\n",
       "      <th>4</th>\n",
       "      <td>El Norte</td>\n",
       "      <td>Spanish</td>\n",
       "      <td>4</td>\n",
       "      <td>296.0</td>\n",
       "      <td>4.5</td>\n",
       "      <td>45.0</td>\n",
       "      <td>Mayfair</td>\n",
       "    </tr>\n",
       "  </tbody>\n",
       "</table>\n",
       "</div>"
      ],
      "text/plain": [
       "                         names             cuisine  price  reviews  rating  \\\n",
       "0              Seasons Mayfair                Fish      4     41.0     4.3   \n",
       "1             PAPA L's KITCHEN             African      4    257.0     4.6   \n",
       "2                 Coqbull Soho  Rotisserie Chicken      2    175.0     4.1   \n",
       "3  Ham Yard Bar and Restaurant     Modern European      2   3696.0     4.6   \n",
       "4                     El Norte             Spanish      4    296.0     4.5   \n",
       "\n",
       "   bookings      address  \n",
       "0       8.0      Mayfair  \n",
       "1       6.0  St. James's  \n",
       "2      47.0         Soho  \n",
       "3      92.0         Soho  \n",
       "4      45.0      Mayfair  "
      ]
     },
     "execution_count": 10,
     "metadata": {},
     "output_type": "execute_result"
    }
   ],
   "source": [
    "opentable_df.head()"
   ]
  },
  {
   "cell_type": "markdown",
   "metadata": {},
   "source": [
    "## Understand the Differences in Data"
   ]
  },
  {
   "cell_type": "code",
   "execution_count": 28,
   "metadata": {},
   "outputs": [
    {
     "name": "stdout",
     "output_type": "stream",
     "text": [
      "['££££' '££' 'Not Available' '£££' '£']\n",
      "[4 2 3]\n"
     ]
    },
    {
     "data": {
      "text/plain": [
       "0      4.0\n",
       "1      4.0\n",
       "2      4.0\n",
       "3      2.0\n",
       "4      2.0\n",
       "      ... \n",
       "373    NaN\n",
       "374    NaN\n",
       "375    NaN\n",
       "376    NaN\n",
       "377    NaN\n",
       "Name: price, Length: 378, dtype: float64"
      ]
     },
     "execution_count": 28,
     "metadata": {},
     "output_type": "execute_result"
    }
   ],
   "source": [
    "#Different values in price\n",
    "print(google_df.price.unique())\n",
    "print(opentable_df.price.unique())\n",
    "\n",
    "#Price ranges from 1 to 4, but we need to have the same format across tables\n",
    "price_dict = {'£':1, '££':2, '£££':3, '££££':4, 'Not Available': np.nan}\n",
    "#Map values\n",
    "google_df['price'] = google_df['price'].map(price_dict)\n"
   ]
  },
  {
   "cell_type": "code",
   "execution_count": 42,
   "metadata": {},
   "outputs": [],
   "source": [
    "#Reviews have also different formats, so we have to make them all integers\n",
    "google_df['reviews_count'] = google_df['reviews_count'].replace(',','', regex=True)\n",
    "google_df['reviews_count'] = google_df['reviews_count'].replace('[a-zA-Z]','', regex=True)\n",
    "google_df['reviews_count'] = google_df['reviews_count'].replace('',np.nan, regex=True)\n",
    "google_df['reviews_count'] = google_df['reviews_count'].replace(\"\"\" ''\"\"\",np.nan, regex=True)\n",
    "google_df['reviews_count'] = google_df['reviews_count'].str.strip()\n",
    "google_df['reviews_count'] = google_df['reviews_count'].astype(float)"
   ]
  },
  {
   "cell_type": "code",
   "execution_count": 48,
   "metadata": {},
   "outputs": [],
   "source": [
    "#Make sure caps are the same in restaurant titles to be able to merge later\n",
    "google_df['names'] = google_df['names'].str.lower()\n",
    "google_df['names'] = google_df['names'].str.title()\n",
    "opentable_df['names'] = opentable_df['names'].str.lower()\n",
    "opentable_df['names'] = opentable_df['names'].str.title()"
   ]
  },
  {
   "cell_type": "code",
   "execution_count": 49,
   "metadata": {},
   "outputs": [
    {
     "data": {
      "text/html": [
       "<div>\n",
       "<style scoped>\n",
       "    .dataframe tbody tr th:only-of-type {\n",
       "        vertical-align: middle;\n",
       "    }\n",
       "\n",
       "    .dataframe tbody tr th {\n",
       "        vertical-align: top;\n",
       "    }\n",
       "\n",
       "    .dataframe thead th {\n",
       "        text-align: right;\n",
       "    }\n",
       "</style>\n",
       "<table border=\"1\" class=\"dataframe\">\n",
       "  <thead>\n",
       "    <tr style=\"text-align: right;\">\n",
       "      <th></th>\n",
       "      <th>names</th>\n",
       "      <th>summary</th>\n",
       "      <th>cusine</th>\n",
       "      <th>price</th>\n",
       "      <th>reviews_count</th>\n",
       "      <th>rating</th>\n",
       "      <th>address</th>\n",
       "      <th>url</th>\n",
       "    </tr>\n",
       "  </thead>\n",
       "  <tbody>\n",
       "    <tr>\n",
       "      <th>0</th>\n",
       "      <td>Restaurant Story</td>\n",
       "      <td>Chef Tom Sellers' novel approach to British cl...</td>\n",
       "      <td>Fine dining restaurant</td>\n",
       "      <td>4.0</td>\n",
       "      <td>418.0</td>\n",
       "      <td>4.6</td>\n",
       "      <td>199 Tooley St, London SE1 2JX</td>\n",
       "      <td>https://www.google.com/maps/place/Restaurant+S...</td>\n",
       "    </tr>\n",
       "    <tr>\n",
       "      <th>1</th>\n",
       "      <td>Galvin La Chapelle</td>\n",
       "      <td>NaN</td>\n",
       "      <td>French restaurant</td>\n",
       "      <td>4.0</td>\n",
       "      <td>1901.0</td>\n",
       "      <td>4.6</td>\n",
       "      <td>NaN</td>\n",
       "      <td>https://www.google.com/maps/place/Galvin+La+Ch...</td>\n",
       "    </tr>\n",
       "    <tr>\n",
       "      <th>2</th>\n",
       "      <td>City Social</td>\n",
       "      <td>NaN</td>\n",
       "      <td>Modern European restaurant</td>\n",
       "      <td>4.0</td>\n",
       "      <td>1187.0</td>\n",
       "      <td>4.5</td>\n",
       "      <td>NaN</td>\n",
       "      <td>https://www.google.com/maps/place/City+Social/...</td>\n",
       "    </tr>\n",
       "    <tr>\n",
       "      <th>3</th>\n",
       "      <td>Brawn</td>\n",
       "      <td>Mediterranean small plates menu with an 'all t...</td>\n",
       "      <td>Mediterranean restaurant</td>\n",
       "      <td>2.0</td>\n",
       "      <td>615.0</td>\n",
       "      <td>4.7</td>\n",
       "      <td>49 Columbia Rd, London E2 7RG</td>\n",
       "      <td>https://www.google.com/maps/place/Brawn/@51.52...</td>\n",
       "    </tr>\n",
       "    <tr>\n",
       "      <th>4</th>\n",
       "      <td>Il Bordello</td>\n",
       "      <td>Old-school Italian restaurant with an authenti...</td>\n",
       "      <td>Italian restaurant</td>\n",
       "      <td>2.0</td>\n",
       "      <td>1170.0</td>\n",
       "      <td>4.5</td>\n",
       "      <td>metropolitan wharf, 70 Wapping Wall, London E1...</td>\n",
       "      <td>https://www.google.com/maps/place/Il+Bordello/...</td>\n",
       "    </tr>\n",
       "  </tbody>\n",
       "</table>\n",
       "</div>"
      ],
      "text/plain": [
       "                names                                            summary  \\\n",
       "0    Restaurant Story  Chef Tom Sellers' novel approach to British cl...   \n",
       "1  Galvin La Chapelle                                                NaN   \n",
       "2         City Social                                                NaN   \n",
       "3               Brawn  Mediterranean small plates menu with an 'all t...   \n",
       "4         Il Bordello  Old-school Italian restaurant with an authenti...   \n",
       "\n",
       "                       cusine  price  reviews_count rating  \\\n",
       "0      Fine dining restaurant    4.0          418.0    4.6   \n",
       "1           French restaurant    4.0         1901.0    4.6   \n",
       "2  Modern European restaurant    4.0         1187.0    4.5   \n",
       "3    Mediterranean restaurant    2.0          615.0    4.7   \n",
       "4          Italian restaurant    2.0         1170.0    4.5   \n",
       "\n",
       "                                             address  \\\n",
       "0                      199 Tooley St, London SE1 2JX   \n",
       "1                                                NaN   \n",
       "2                                                NaN   \n",
       "3                      49 Columbia Rd, London E2 7RG   \n",
       "4  metropolitan wharf, 70 Wapping Wall, London E1...   \n",
       "\n",
       "                                                 url  \n",
       "0  https://www.google.com/maps/place/Restaurant+S...  \n",
       "1  https://www.google.com/maps/place/Galvin+La+Ch...  \n",
       "2  https://www.google.com/maps/place/City+Social/...  \n",
       "3  https://www.google.com/maps/place/Brawn/@51.52...  \n",
       "4  https://www.google.com/maps/place/Il+Bordello/...  "
      ]
     },
     "execution_count": 49,
     "metadata": {},
     "output_type": "execute_result"
    }
   ],
   "source": []
  },
  {
   "cell_type": "markdown",
   "metadata": {},
   "source": [
    "### Clean Google Data"
   ]
  },
  {
   "cell_type": "code",
   "execution_count": 12,
   "metadata": {},
   "outputs": [],
   "source": [
    "#Remove duplicates, if any \n",
    "google_df.drop_duplicates()\n",
    "\n",
    "#Remove rows where cusine = \"Not a restaurant\"\n",
    "google_df = google_df[google_df.cusine != 'Not a restaurant']\n",
    "\n",
    "#Remove rows where there are no ratings \n",
    "google_df = google_df[google_df.rating != 'Not Available']\n"
   ]
  },
  {
   "cell_type": "code",
   "execution_count": 13,
   "metadata": {},
   "outputs": [
    {
     "data": {
      "text/plain": [
       "373"
      ]
     },
     "execution_count": 13,
     "metadata": {},
     "output_type": "execute_result"
    }
   ],
   "source": [
    "len(google_df)"
   ]
  },
  {
   "cell_type": "code",
   "execution_count": null,
   "metadata": {},
   "outputs": [],
   "source": []
  }
 ],
 "metadata": {
  "interpreter": {
   "hash": "b73deb49e4317e1634e6598c4f5693ac751ba82d1598f517dcce0ddf30ad8fdf"
  },
  "kernelspec": {
   "display_name": "Python 3.7.6",
   "language": "python",
   "name": "python3"
  },
  "language_info": {
   "codemirror_mode": {
    "name": "ipython",
    "version": 3
   },
   "file_extension": ".py",
   "mimetype": "text/x-python",
   "name": "python",
   "nbconvert_exporter": "python",
   "pygments_lexer": "ipython3",
   "version": "3.8.5"
  },
  "orig_nbformat": 4
 },
 "nbformat": 4,
 "nbformat_minor": 2
}
