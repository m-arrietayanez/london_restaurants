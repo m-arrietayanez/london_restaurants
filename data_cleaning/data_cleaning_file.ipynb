{
 "cells": [
  {
   "cell_type": "code",
   "execution_count": 69,
   "metadata": {},
   "outputs": [],
   "source": [
    "import pandas as pd\n",
    "import numpy as np\n",
    "import re"
   ]
  },
  {
   "cell_type": "code",
   "execution_count": 2,
   "metadata": {},
   "outputs": [],
   "source": [
    "#Load data\n",
    "google_df = pd.read_csv('/Users/marianaarrieta/Documents/Data_Projects/london_restaurants/raw_data/data_google_maps.csv')\n",
    "opentable_df = pd.read_csv('/Users/marianaarrieta/Documents/Data_Projects/london_restaurants/raw_data/opentable_data.csv')\n"
   ]
  },
  {
   "cell_type": "code",
   "execution_count": 3,
   "metadata": {},
   "outputs": [
    {
     "data": {
      "text/html": [
       "<div>\n",
       "<style scoped>\n",
       "    .dataframe tbody tr th:only-of-type {\n",
       "        vertical-align: middle;\n",
       "    }\n",
       "\n",
       "    .dataframe tbody tr th {\n",
       "        vertical-align: top;\n",
       "    }\n",
       "\n",
       "    .dataframe thead th {\n",
       "        text-align: right;\n",
       "    }\n",
       "</style>\n",
       "<table border=\"1\" class=\"dataframe\">\n",
       "  <thead>\n",
       "    <tr style=\"text-align: right;\">\n",
       "      <th></th>\n",
       "      <th>names</th>\n",
       "      <th>summary</th>\n",
       "      <th>cusine</th>\n",
       "      <th>price</th>\n",
       "      <th>reviews_count</th>\n",
       "      <th>rating</th>\n",
       "      <th>address</th>\n",
       "      <th>url</th>\n",
       "    </tr>\n",
       "  </thead>\n",
       "  <tbody>\n",
       "    <tr>\n",
       "      <th>0</th>\n",
       "      <td>Restaurant Story</td>\n",
       "      <td>Chef Tom Sellers' novel approach to British cl...</td>\n",
       "      <td>Fine dining restaurant</td>\n",
       "      <td>££££</td>\n",
       "      <td>418 reviews</td>\n",
       "      <td>4.6</td>\n",
       "      <td>199 Tooley St, London SE1 2JX</td>\n",
       "      <td>https://www.google.com/maps/place/Restaurant+S...</td>\n",
       "    </tr>\n",
       "    <tr>\n",
       "      <th>1</th>\n",
       "      <td>Galvin La Chapelle</td>\n",
       "      <td>NaN</td>\n",
       "      <td>French restaurant</td>\n",
       "      <td>££££</td>\n",
       "      <td>1,901 reviews</td>\n",
       "      <td>4.6</td>\n",
       "      <td>NaN</td>\n",
       "      <td>https://www.google.com/maps/place/Galvin+La+Ch...</td>\n",
       "    </tr>\n",
       "    <tr>\n",
       "      <th>2</th>\n",
       "      <td>City Social</td>\n",
       "      <td>NaN</td>\n",
       "      <td>Modern European restaurant</td>\n",
       "      <td>££££</td>\n",
       "      <td>1,187 reviews</td>\n",
       "      <td>4.5</td>\n",
       "      <td>NaN</td>\n",
       "      <td>https://www.google.com/maps/place/City+Social/...</td>\n",
       "    </tr>\n",
       "    <tr>\n",
       "      <th>3</th>\n",
       "      <td>Brawn</td>\n",
       "      <td>Mediterranean small plates menu with an 'all t...</td>\n",
       "      <td>Mediterranean restaurant</td>\n",
       "      <td>££</td>\n",
       "      <td>615 reviews</td>\n",
       "      <td>4.7</td>\n",
       "      <td>49 Columbia Rd, London E2 7RG</td>\n",
       "      <td>https://www.google.com/maps/place/Brawn/@51.52...</td>\n",
       "    </tr>\n",
       "    <tr>\n",
       "      <th>4</th>\n",
       "      <td>Il Bordello</td>\n",
       "      <td>Old-school Italian restaurant with an authenti...</td>\n",
       "      <td>Italian restaurant</td>\n",
       "      <td>££</td>\n",
       "      <td>1,170 reviews</td>\n",
       "      <td>4.5</td>\n",
       "      <td>metropolitan wharf, 70 Wapping Wall, London E1...</td>\n",
       "      <td>https://www.google.com/maps/place/Il+Bordello/...</td>\n",
       "    </tr>\n",
       "  </tbody>\n",
       "</table>\n",
       "</div>"
      ],
      "text/plain": [
       "                names                                            summary  \\\n",
       "0    Restaurant Story  Chef Tom Sellers' novel approach to British cl...   \n",
       "1  Galvin La Chapelle                                                NaN   \n",
       "2         City Social                                                NaN   \n",
       "3               Brawn  Mediterranean small plates menu with an 'all t...   \n",
       "4         Il Bordello  Old-school Italian restaurant with an authenti...   \n",
       "\n",
       "                       cusine price  reviews_count rating  \\\n",
       "0      Fine dining restaurant  ££££    418 reviews    4.6   \n",
       "1           French restaurant  ££££  1,901 reviews    4.6   \n",
       "2  Modern European restaurant  ££££  1,187 reviews    4.5   \n",
       "3    Mediterranean restaurant    ££    615 reviews    4.7   \n",
       "4          Italian restaurant    ££  1,170 reviews    4.5   \n",
       "\n",
       "                                             address  \\\n",
       "0                      199 Tooley St, London SE1 2JX   \n",
       "1                                                NaN   \n",
       "2                                                NaN   \n",
       "3                      49 Columbia Rd, London E2 7RG   \n",
       "4  metropolitan wharf, 70 Wapping Wall, London E1...   \n",
       "\n",
       "                                                 url  \n",
       "0  https://www.google.com/maps/place/Restaurant+S...  \n",
       "1  https://www.google.com/maps/place/Galvin+La+Ch...  \n",
       "2  https://www.google.com/maps/place/City+Social/...  \n",
       "3  https://www.google.com/maps/place/Brawn/@51.52...  \n",
       "4  https://www.google.com/maps/place/Il+Bordello/...  "
      ]
     },
     "execution_count": 3,
     "metadata": {},
     "output_type": "execute_result"
    }
   ],
   "source": [
    "google_df.head()"
   ]
  },
  {
   "cell_type": "code",
   "execution_count": 199,
   "metadata": {},
   "outputs": [
    {
     "data": {
      "text/html": [
       "<div>\n",
       "<style scoped>\n",
       "    .dataframe tbody tr th:only-of-type {\n",
       "        vertical-align: middle;\n",
       "    }\n",
       "\n",
       "    .dataframe tbody tr th {\n",
       "        vertical-align: top;\n",
       "    }\n",
       "\n",
       "    .dataframe thead th {\n",
       "        text-align: right;\n",
       "    }\n",
       "</style>\n",
       "<table border=\"1\" class=\"dataframe\">\n",
       "  <thead>\n",
       "    <tr style=\"text-align: right;\">\n",
       "      <th></th>\n",
       "      <th>names</th>\n",
       "      <th>cuisine</th>\n",
       "      <th>price</th>\n",
       "      <th>reviews</th>\n",
       "      <th>rating</th>\n",
       "      <th>bookings</th>\n",
       "      <th>address</th>\n",
       "    </tr>\n",
       "  </thead>\n",
       "  <tbody>\n",
       "    <tr>\n",
       "      <th>0</th>\n",
       "      <td>Seasons Mayfair</td>\n",
       "      <td>Fish</td>\n",
       "      <td>4</td>\n",
       "      <td>41.0</td>\n",
       "      <td>4.3</td>\n",
       "      <td>8.0</td>\n",
       "      <td>Mayfair</td>\n",
       "    </tr>\n",
       "    <tr>\n",
       "      <th>1</th>\n",
       "      <td>PAPA L's KITCHEN</td>\n",
       "      <td>African</td>\n",
       "      <td>4</td>\n",
       "      <td>257.0</td>\n",
       "      <td>4.6</td>\n",
       "      <td>6.0</td>\n",
       "      <td>St. James's</td>\n",
       "    </tr>\n",
       "    <tr>\n",
       "      <th>2</th>\n",
       "      <td>Coqbull Soho</td>\n",
       "      <td>Rotisserie Chicken</td>\n",
       "      <td>2</td>\n",
       "      <td>175.0</td>\n",
       "      <td>4.1</td>\n",
       "      <td>47.0</td>\n",
       "      <td>Soho</td>\n",
       "    </tr>\n",
       "    <tr>\n",
       "      <th>3</th>\n",
       "      <td>Ham Yard Bar and Restaurant</td>\n",
       "      <td>Modern European</td>\n",
       "      <td>2</td>\n",
       "      <td>3696.0</td>\n",
       "      <td>4.6</td>\n",
       "      <td>92.0</td>\n",
       "      <td>Soho</td>\n",
       "    </tr>\n",
       "    <tr>\n",
       "      <th>4</th>\n",
       "      <td>El Norte</td>\n",
       "      <td>Spanish</td>\n",
       "      <td>4</td>\n",
       "      <td>296.0</td>\n",
       "      <td>4.5</td>\n",
       "      <td>45.0</td>\n",
       "      <td>Mayfair</td>\n",
       "    </tr>\n",
       "  </tbody>\n",
       "</table>\n",
       "</div>"
      ],
      "text/plain": [
       "                         names             cuisine  price  reviews  rating  \\\n",
       "0              Seasons Mayfair                Fish      4     41.0     4.3   \n",
       "1             PAPA L's KITCHEN             African      4    257.0     4.6   \n",
       "2                 Coqbull Soho  Rotisserie Chicken      2    175.0     4.1   \n",
       "3  Ham Yard Bar and Restaurant     Modern European      2   3696.0     4.6   \n",
       "4                     El Norte             Spanish      4    296.0     4.5   \n",
       "\n",
       "   bookings      address  \n",
       "0       8.0      Mayfair  \n",
       "1       6.0  St. James's  \n",
       "2      47.0         Soho  \n",
       "3      92.0         Soho  \n",
       "4      45.0      Mayfair  "
      ]
     },
     "execution_count": 199,
     "metadata": {},
     "output_type": "execute_result"
    }
   ],
   "source": [
    "opentable_df.head()"
   ]
  },
  {
   "cell_type": "code",
   "execution_count": 200,
   "metadata": {},
   "outputs": [
    {
     "data": {
      "text/plain": [
       "1000"
      ]
     },
     "execution_count": 200,
     "metadata": {},
     "output_type": "execute_result"
    }
   ],
   "source": [
    "len(opentable_df)"
   ]
  },
  {
   "cell_type": "markdown",
   "metadata": {},
   "source": [
    "### Filter Google Data"
   ]
  },
  {
   "cell_type": "code",
   "execution_count": 4,
   "metadata": {},
   "outputs": [],
   "source": [
    "#Remove duplicates, if any \n",
    "google_df.drop_duplicates(subset = ['names'], inplace = True)\n",
    "\n",
    "#Remove rows where cusine = \"Not a restaurant\"\n",
    "google_df = google_df[google_df.cusine != 'Not a restaurant']\n",
    "\n",
    "#Remove rows where there are no ratings \n",
    "google_df = google_df[google_df.rating != 'Not Available']\n"
   ]
  },
  {
   "cell_type": "markdown",
   "metadata": {},
   "source": [
    "### Filter Open Table Data"
   ]
  },
  {
   "cell_type": "code",
   "execution_count": 5,
   "metadata": {},
   "outputs": [],
   "source": [
    "#Remove duplicates, if any \n",
    "opentable_df.drop_duplicates(subset = ['names'], inplace = True)\n",
    "\n",
    "#Remove booking column \n",
    "opentable_df.drop(columns=['bookings'], inplace = True)"
   ]
  },
  {
   "cell_type": "markdown",
   "metadata": {},
   "source": [
    "## Understand the Differences in Data"
   ]
  },
  {
   "cell_type": "code",
   "execution_count": 6,
   "metadata": {},
   "outputs": [
    {
     "name": "stdout",
     "output_type": "stream",
     "text": [
      "<class 'pandas.core.frame.DataFrame'>\n",
      "Int64Index: 280 entries, 0 to 373\n",
      "Data columns (total 8 columns):\n",
      " #   Column         Non-Null Count  Dtype \n",
      "---  ------         --------------  ----- \n",
      " 0   names          280 non-null    object\n",
      " 1   summary        164 non-null    object\n",
      " 2   cusine         279 non-null    object\n",
      " 3   price          280 non-null    object\n",
      " 4   reviews_count  280 non-null    object\n",
      " 5   rating         280 non-null    object\n",
      " 6   address        216 non-null    object\n",
      " 7   url            280 non-null    object\n",
      "dtypes: object(8)\n",
      "memory usage: 19.7+ KB\n"
     ]
    }
   ],
   "source": [
    "google_df.info()"
   ]
  },
  {
   "cell_type": "code",
   "execution_count": 7,
   "metadata": {},
   "outputs": [
    {
     "name": "stdout",
     "output_type": "stream",
     "text": [
      "<class 'pandas.core.frame.DataFrame'>\n",
      "Int64Index: 400 entries, 0 to 499\n",
      "Data columns (total 6 columns):\n",
      " #   Column   Non-Null Count  Dtype  \n",
      "---  ------   --------------  -----  \n",
      " 0   names    400 non-null    object \n",
      " 1   cuisine  400 non-null    object \n",
      " 2   price    400 non-null    int64  \n",
      " 3   reviews  358 non-null    float64\n",
      " 4   rating   350 non-null    float64\n",
      " 5   address  400 non-null    object \n",
      "dtypes: float64(2), int64(1), object(3)\n",
      "memory usage: 21.9+ KB\n"
     ]
    }
   ],
   "source": [
    "opentable_df.info()"
   ]
  },
  {
   "cell_type": "code",
   "execution_count": 8,
   "metadata": {},
   "outputs": [
    {
     "name": "stdout",
     "output_type": "stream",
     "text": [
      "['££££' '££' 'Not Available' '£££' '£']\n",
      "[4 2 3]\n"
     ]
    }
   ],
   "source": [
    "#Different values in price\n",
    "print(google_df.price.unique())\n",
    "print(opentable_df.price.unique())\n",
    "\n",
    "#Price ranges from 1 to 4, but we need to have the same format across tables\n",
    "price_dict = {'£':1, '££':2, '£££':3, '££££':4, 'Not Available': np.nan}\n",
    "#Map values\n",
    "google_df['price'] = google_df['price'].map(price_dict)\n"
   ]
  },
  {
   "cell_type": "code",
   "execution_count": 10,
   "metadata": {},
   "outputs": [],
   "source": [
    "#Clean reviews  and ratings before converting to float\n",
    "google_df['reviews_count'] = google_df['reviews_count'].replace(',','', regex=True)\n",
    "google_df['reviews_count'] = google_df['reviews_count'].replace('[a-zA-Z]','', regex=True)\n",
    "google_df['reviews_count'] = google_df['reviews_count'].replace('',np.nan, regex=True)\n",
    "google_df['reviews_count'] = google_df['reviews_count'].replace(\"\"\" ''\"\"\", np.nan, regex=True)\n",
    "google_df['reviews_count'] = google_df['reviews_count'].str.strip()\n",
    "\n",
    "google_df['rating'] = google_df['rating'].replace('Not Available', np.nan, regex=True)"
   ]
  },
  {
   "cell_type": "code",
   "execution_count": 11,
   "metadata": {},
   "outputs": [],
   "source": [
    "google_df['reviews_count'] = google_df['reviews_count'].astype(float)\n",
    "\n",
    "google_df['rating'] = google_df['rating'].astype(float)"
   ]
  },
  {
   "cell_type": "code",
   "execution_count": 12,
   "metadata": {},
   "outputs": [],
   "source": [
    "#Make sure caps are the same in restaurant titles to be able to merge later\n",
    "google_df['names'] = google_df['names'].str.lower()\n",
    "google_df['names'] = google_df['names'].str.title()\n",
    "opentable_df['names'] = opentable_df['names'].str.lower()\n",
    "opentable_df['names'] = opentable_df['names'].str.title()"
   ]
  },
  {
   "cell_type": "markdown",
   "metadata": {},
   "source": [
    "### Make Addresses Compatible"
   ]
  },
  {
   "cell_type": "code",
   "execution_count": 66,
   "metadata": {},
   "outputs": [],
   "source": [
    "#Load postcode data\n",
    "postcode_df = pd.read_csv('/Users/marianaarrieta/Documents/Data_Projects/london_restaurants/raw_data/postcodes.csv')\n",
    "\n",
    "#split strings after each comma on the Borough column \n",
    "postcode_df[\"Borough\"] = postcode_df[\"Borough\"].str.split(\", \")\n",
    "\n",
    "#covert to dict\n",
    "postcode_dict = postcode_df.set_index('Postcode').T.to_dict(\"list\")\n",
    "\n",
    "#flatten dictionary\n",
    "for key, value in postcode_dict.items():\n",
    "    postcode_dict[key] = postcode_dict[key][0]\n",
    "\n",
    "\n",
    "\n",
    "\n"
   ]
  },
  {
   "cell_type": "code",
   "execution_count": 81,
   "metadata": {},
   "outputs": [
    {
     "ename": "ValueError",
     "evalue": "NumPy boolean array indexing assignment cannot assign 3 input values to the 5 output values where the mask is true",
     "output_type": "error",
     "traceback": [
      "\u001b[0;31m---------------------------------------------------------------------------\u001b[0m",
      "\u001b[0;31mValueError\u001b[0m                                Traceback (most recent call last)",
      "\u001b[1;32m/Users/marianaarrieta/Documents/Data_Projects/london_restaurants/data_cleaning/data_cleaning_file.ipynb Cell 19'\u001b[0m in \u001b[0;36m<cell line: 11>\u001b[0;34m()\u001b[0m\n\u001b[1;32m      <a href='vscode-notebook-cell:/Users/marianaarrieta/Documents/Data_Projects/london_restaurants/data_cleaning/data_cleaning_file.ipynb#ch0000018?line=7'>8</a>\u001b[0m google_df[\u001b[39m'\u001b[39m\u001b[39maddress_postcode\u001b[39m\u001b[39m'\u001b[39m] \u001b[39m=\u001b[39m google_df[\u001b[39m'\u001b[39m\u001b[39maddress_postcode\u001b[39m\u001b[39m'\u001b[39m]\u001b[39m.\u001b[39mstr\u001b[39m.\u001b[39mreplace(\u001b[39m\"\u001b[39m\u001b[39m \u001b[39m\u001b[39m\"\u001b[39m, \u001b[39m\"\u001b[39m\u001b[39m\"\u001b[39m)\n\u001b[1;32m     <a href='vscode-notebook-cell:/Users/marianaarrieta/Documents/Data_Projects/london_restaurants/data_cleaning/data_cleaning_file.ipynb#ch0000018?line=9'>10</a>\u001b[0m \u001b[39m#Map to borough \u001b[39;00m\n\u001b[0;32m---> <a href='vscode-notebook-cell:/Users/marianaarrieta/Documents/Data_Projects/london_restaurants/data_cleaning/data_cleaning_file.ipynb#ch0000018?line=10'>11</a>\u001b[0m google_df \u001b[39m=\u001b[39mgoogle_df\u001b[39m.\u001b[39;49mreplace({\u001b[39m\"\u001b[39;49m\u001b[39maddress_postcode\u001b[39;49m\u001b[39m\"\u001b[39;49m: postcode_dict})\n",
      "File \u001b[0;32m~/Library/r-miniconda/lib/python3.8/site-packages/pandas/core/frame.py:5276\u001b[0m, in \u001b[0;36mDataFrame.replace\u001b[0;34m(self, to_replace, value, inplace, limit, regex, method)\u001b[0m\n\u001b[1;32m   <a href='file:///~/Library/r-miniconda/lib/python3.8/site-packages/pandas/core/frame.py?line=5265'>5266</a>\u001b[0m \u001b[39m@doc\u001b[39m(NDFrame\u001b[39m.\u001b[39mreplace, \u001b[39m*\u001b[39m\u001b[39m*\u001b[39m_shared_doc_kwargs)\n\u001b[1;32m   <a href='file:///~/Library/r-miniconda/lib/python3.8/site-packages/pandas/core/frame.py?line=5266'>5267</a>\u001b[0m \u001b[39mdef\u001b[39;00m \u001b[39mreplace\u001b[39m(\n\u001b[1;32m   <a href='file:///~/Library/r-miniconda/lib/python3.8/site-packages/pandas/core/frame.py?line=5267'>5268</a>\u001b[0m     \u001b[39mself\u001b[39m,\n\u001b[0;32m   (...)\u001b[0m\n\u001b[1;32m   <a href='file:///~/Library/r-miniconda/lib/python3.8/site-packages/pandas/core/frame.py?line=5273'>5274</a>\u001b[0m     method: \u001b[39mstr\u001b[39m \u001b[39m|\u001b[39m lib\u001b[39m.\u001b[39mNoDefault \u001b[39m=\u001b[39m lib\u001b[39m.\u001b[39mno_default,\n\u001b[1;32m   <a href='file:///~/Library/r-miniconda/lib/python3.8/site-packages/pandas/core/frame.py?line=5274'>5275</a>\u001b[0m ):\n\u001b[0;32m-> <a href='file:///~/Library/r-miniconda/lib/python3.8/site-packages/pandas/core/frame.py?line=5275'>5276</a>\u001b[0m     \u001b[39mreturn\u001b[39;00m \u001b[39msuper\u001b[39;49m()\u001b[39m.\u001b[39;49mreplace(\n\u001b[1;32m   <a href='file:///~/Library/r-miniconda/lib/python3.8/site-packages/pandas/core/frame.py?line=5276'>5277</a>\u001b[0m         to_replace\u001b[39m=\u001b[39;49mto_replace,\n\u001b[1;32m   <a href='file:///~/Library/r-miniconda/lib/python3.8/site-packages/pandas/core/frame.py?line=5277'>5278</a>\u001b[0m         value\u001b[39m=\u001b[39;49mvalue,\n\u001b[1;32m   <a href='file:///~/Library/r-miniconda/lib/python3.8/site-packages/pandas/core/frame.py?line=5278'>5279</a>\u001b[0m         inplace\u001b[39m=\u001b[39;49minplace,\n\u001b[1;32m   <a href='file:///~/Library/r-miniconda/lib/python3.8/site-packages/pandas/core/frame.py?line=5279'>5280</a>\u001b[0m         limit\u001b[39m=\u001b[39;49mlimit,\n\u001b[1;32m   <a href='file:///~/Library/r-miniconda/lib/python3.8/site-packages/pandas/core/frame.py?line=5280'>5281</a>\u001b[0m         regex\u001b[39m=\u001b[39;49mregex,\n\u001b[1;32m   <a href='file:///~/Library/r-miniconda/lib/python3.8/site-packages/pandas/core/frame.py?line=5281'>5282</a>\u001b[0m         method\u001b[39m=\u001b[39;49mmethod,\n\u001b[1;32m   <a href='file:///~/Library/r-miniconda/lib/python3.8/site-packages/pandas/core/frame.py?line=5282'>5283</a>\u001b[0m     )\n",
      "File \u001b[0;32m~/Library/r-miniconda/lib/python3.8/site-packages/pandas/core/generic.py:6659\u001b[0m, in \u001b[0;36mNDFrame.replace\u001b[0;34m(self, to_replace, value, inplace, limit, regex, method)\u001b[0m\n\u001b[1;32m   <a href='file:///~/Library/r-miniconda/lib/python3.8/site-packages/pandas/core/generic.py?line=6655'>6656</a>\u001b[0m     \u001b[39melse\u001b[39;00m:\n\u001b[1;32m   <a href='file:///~/Library/r-miniconda/lib/python3.8/site-packages/pandas/core/generic.py?line=6656'>6657</a>\u001b[0m         to_replace, value \u001b[39m=\u001b[39m keys, values\n\u001b[0;32m-> <a href='file:///~/Library/r-miniconda/lib/python3.8/site-packages/pandas/core/generic.py?line=6658'>6659</a>\u001b[0m     \u001b[39mreturn\u001b[39;00m \u001b[39mself\u001b[39;49m\u001b[39m.\u001b[39;49mreplace(\n\u001b[1;32m   <a href='file:///~/Library/r-miniconda/lib/python3.8/site-packages/pandas/core/generic.py?line=6659'>6660</a>\u001b[0m         to_replace, value, inplace\u001b[39m=\u001b[39;49minplace, limit\u001b[39m=\u001b[39;49mlimit, regex\u001b[39m=\u001b[39;49mregex\n\u001b[1;32m   <a href='file:///~/Library/r-miniconda/lib/python3.8/site-packages/pandas/core/generic.py?line=6660'>6661</a>\u001b[0m     )\n\u001b[1;32m   <a href='file:///~/Library/r-miniconda/lib/python3.8/site-packages/pandas/core/generic.py?line=6661'>6662</a>\u001b[0m \u001b[39melse\u001b[39;00m:\n\u001b[1;32m   <a href='file:///~/Library/r-miniconda/lib/python3.8/site-packages/pandas/core/generic.py?line=6662'>6663</a>\u001b[0m \n\u001b[1;32m   <a href='file:///~/Library/r-miniconda/lib/python3.8/site-packages/pandas/core/generic.py?line=6663'>6664</a>\u001b[0m     \u001b[39m# need a non-zero len on all axes\u001b[39;00m\n\u001b[1;32m   <a href='file:///~/Library/r-miniconda/lib/python3.8/site-packages/pandas/core/generic.py?line=6664'>6665</a>\u001b[0m     \u001b[39mif\u001b[39;00m \u001b[39mnot\u001b[39;00m \u001b[39mself\u001b[39m\u001b[39m.\u001b[39msize:\n",
      "File \u001b[0;32m~/Library/r-miniconda/lib/python3.8/site-packages/pandas/core/frame.py:5276\u001b[0m, in \u001b[0;36mDataFrame.replace\u001b[0;34m(self, to_replace, value, inplace, limit, regex, method)\u001b[0m\n\u001b[1;32m   <a href='file:///~/Library/r-miniconda/lib/python3.8/site-packages/pandas/core/frame.py?line=5265'>5266</a>\u001b[0m \u001b[39m@doc\u001b[39m(NDFrame\u001b[39m.\u001b[39mreplace, \u001b[39m*\u001b[39m\u001b[39m*\u001b[39m_shared_doc_kwargs)\n\u001b[1;32m   <a href='file:///~/Library/r-miniconda/lib/python3.8/site-packages/pandas/core/frame.py?line=5266'>5267</a>\u001b[0m \u001b[39mdef\u001b[39;00m \u001b[39mreplace\u001b[39m(\n\u001b[1;32m   <a href='file:///~/Library/r-miniconda/lib/python3.8/site-packages/pandas/core/frame.py?line=5267'>5268</a>\u001b[0m     \u001b[39mself\u001b[39m,\n\u001b[0;32m   (...)\u001b[0m\n\u001b[1;32m   <a href='file:///~/Library/r-miniconda/lib/python3.8/site-packages/pandas/core/frame.py?line=5273'>5274</a>\u001b[0m     method: \u001b[39mstr\u001b[39m \u001b[39m|\u001b[39m lib\u001b[39m.\u001b[39mNoDefault \u001b[39m=\u001b[39m lib\u001b[39m.\u001b[39mno_default,\n\u001b[1;32m   <a href='file:///~/Library/r-miniconda/lib/python3.8/site-packages/pandas/core/frame.py?line=5274'>5275</a>\u001b[0m ):\n\u001b[0;32m-> <a href='file:///~/Library/r-miniconda/lib/python3.8/site-packages/pandas/core/frame.py?line=5275'>5276</a>\u001b[0m     \u001b[39mreturn\u001b[39;00m \u001b[39msuper\u001b[39;49m()\u001b[39m.\u001b[39;49mreplace(\n\u001b[1;32m   <a href='file:///~/Library/r-miniconda/lib/python3.8/site-packages/pandas/core/frame.py?line=5276'>5277</a>\u001b[0m         to_replace\u001b[39m=\u001b[39;49mto_replace,\n\u001b[1;32m   <a href='file:///~/Library/r-miniconda/lib/python3.8/site-packages/pandas/core/frame.py?line=5277'>5278</a>\u001b[0m         value\u001b[39m=\u001b[39;49mvalue,\n\u001b[1;32m   <a href='file:///~/Library/r-miniconda/lib/python3.8/site-packages/pandas/core/frame.py?line=5278'>5279</a>\u001b[0m         inplace\u001b[39m=\u001b[39;49minplace,\n\u001b[1;32m   <a href='file:///~/Library/r-miniconda/lib/python3.8/site-packages/pandas/core/frame.py?line=5279'>5280</a>\u001b[0m         limit\u001b[39m=\u001b[39;49mlimit,\n\u001b[1;32m   <a href='file:///~/Library/r-miniconda/lib/python3.8/site-packages/pandas/core/frame.py?line=5280'>5281</a>\u001b[0m         regex\u001b[39m=\u001b[39;49mregex,\n\u001b[1;32m   <a href='file:///~/Library/r-miniconda/lib/python3.8/site-packages/pandas/core/frame.py?line=5281'>5282</a>\u001b[0m         method\u001b[39m=\u001b[39;49mmethod,\n\u001b[1;32m   <a href='file:///~/Library/r-miniconda/lib/python3.8/site-packages/pandas/core/frame.py?line=5282'>5283</a>\u001b[0m     )\n",
      "File \u001b[0;32m~/Library/r-miniconda/lib/python3.8/site-packages/pandas/core/generic.py:6679\u001b[0m, in \u001b[0;36mNDFrame.replace\u001b[0;34m(self, to_replace, value, inplace, limit, regex, method)\u001b[0m\n\u001b[1;32m   <a href='file:///~/Library/r-miniconda/lib/python3.8/site-packages/pandas/core/generic.py?line=6670'>6671</a>\u001b[0m \u001b[39mif\u001b[39;00m is_dict_like(value):  \u001b[39m# {'A' : NA} -> {'A' : 0}\u001b[39;00m\n\u001b[1;32m   <a href='file:///~/Library/r-miniconda/lib/python3.8/site-packages/pandas/core/generic.py?line=6671'>6672</a>\u001b[0m     \u001b[39m# Note: Checking below for `in foo.keys()` instead of\u001b[39;00m\n\u001b[1;32m   <a href='file:///~/Library/r-miniconda/lib/python3.8/site-packages/pandas/core/generic.py?line=6672'>6673</a>\u001b[0m     \u001b[39m#  `in foo` is needed for when we have a Series and not dict\u001b[39;00m\n\u001b[1;32m   <a href='file:///~/Library/r-miniconda/lib/python3.8/site-packages/pandas/core/generic.py?line=6673'>6674</a>\u001b[0m     mapping \u001b[39m=\u001b[39m {\n\u001b[1;32m   <a href='file:///~/Library/r-miniconda/lib/python3.8/site-packages/pandas/core/generic.py?line=6674'>6675</a>\u001b[0m         col: (to_replace[col], value[col])\n\u001b[1;32m   <a href='file:///~/Library/r-miniconda/lib/python3.8/site-packages/pandas/core/generic.py?line=6675'>6676</a>\u001b[0m         \u001b[39mfor\u001b[39;00m col \u001b[39min\u001b[39;00m to_replace\u001b[39m.\u001b[39mkeys()\n\u001b[1;32m   <a href='file:///~/Library/r-miniconda/lib/python3.8/site-packages/pandas/core/generic.py?line=6676'>6677</a>\u001b[0m         \u001b[39mif\u001b[39;00m col \u001b[39min\u001b[39;00m value\u001b[39m.\u001b[39mkeys() \u001b[39mand\u001b[39;00m col \u001b[39min\u001b[39;00m \u001b[39mself\u001b[39m\n\u001b[1;32m   <a href='file:///~/Library/r-miniconda/lib/python3.8/site-packages/pandas/core/generic.py?line=6677'>6678</a>\u001b[0m     }\n\u001b[0;32m-> <a href='file:///~/Library/r-miniconda/lib/python3.8/site-packages/pandas/core/generic.py?line=6678'>6679</a>\u001b[0m     \u001b[39mreturn\u001b[39;00m \u001b[39mself\u001b[39;49m\u001b[39m.\u001b[39;49m_replace_columnwise(mapping, inplace, regex)\n\u001b[1;32m   <a href='file:///~/Library/r-miniconda/lib/python3.8/site-packages/pandas/core/generic.py?line=6680'>6681</a>\u001b[0m \u001b[39m# {'A': NA} -> 0\u001b[39;00m\n\u001b[1;32m   <a href='file:///~/Library/r-miniconda/lib/python3.8/site-packages/pandas/core/generic.py?line=6681'>6682</a>\u001b[0m \u001b[39melif\u001b[39;00m \u001b[39mnot\u001b[39;00m is_list_like(value):\n\u001b[1;32m   <a href='file:///~/Library/r-miniconda/lib/python3.8/site-packages/pandas/core/generic.py?line=6682'>6683</a>\u001b[0m     \u001b[39m# Operate column-wise\u001b[39;00m\n",
      "File \u001b[0;32m~/Library/r-miniconda/lib/python3.8/site-packages/pandas/core/frame.py:5311\u001b[0m, in \u001b[0;36mDataFrame._replace_columnwise\u001b[0;34m(self, mapping, inplace, regex)\u001b[0m\n\u001b[1;32m   <a href='file:///~/Library/r-miniconda/lib/python3.8/site-packages/pandas/core/frame.py?line=5307'>5308</a>\u001b[0m         ser \u001b[39m=\u001b[39m \u001b[39mself\u001b[39m\u001b[39m.\u001b[39miloc[:, i]\n\u001b[1;32m   <a href='file:///~/Library/r-miniconda/lib/python3.8/site-packages/pandas/core/frame.py?line=5309'>5310</a>\u001b[0m         target, value \u001b[39m=\u001b[39m mapping[ax[i]]\n\u001b[0;32m-> <a href='file:///~/Library/r-miniconda/lib/python3.8/site-packages/pandas/core/frame.py?line=5310'>5311</a>\u001b[0m         newobj \u001b[39m=\u001b[39m ser\u001b[39m.\u001b[39;49mreplace(target, value, regex\u001b[39m=\u001b[39;49mregex)\n\u001b[1;32m   <a href='file:///~/Library/r-miniconda/lib/python3.8/site-packages/pandas/core/frame.py?line=5312'>5313</a>\u001b[0m         res\u001b[39m.\u001b[39miloc[:, i] \u001b[39m=\u001b[39m newobj\n\u001b[1;32m   <a href='file:///~/Library/r-miniconda/lib/python3.8/site-packages/pandas/core/frame.py?line=5314'>5315</a>\u001b[0m \u001b[39mif\u001b[39;00m inplace:\n",
      "File \u001b[0;32m~/Library/r-miniconda/lib/python3.8/site-packages/pandas/core/series.py:4960\u001b[0m, in \u001b[0;36mSeries.replace\u001b[0;34m(self, to_replace, value, inplace, limit, regex, method)\u001b[0m\n\u001b[1;32m   <a href='file:///~/Library/r-miniconda/lib/python3.8/site-packages/pandas/core/series.py?line=4944'>4945</a>\u001b[0m \u001b[39m@doc\u001b[39m(\n\u001b[1;32m   <a href='file:///~/Library/r-miniconda/lib/python3.8/site-packages/pandas/core/series.py?line=4945'>4946</a>\u001b[0m     NDFrame\u001b[39m.\u001b[39mreplace,  \u001b[39m# type: ignore[has-type]\u001b[39;00m\n\u001b[1;32m   <a href='file:///~/Library/r-miniconda/lib/python3.8/site-packages/pandas/core/series.py?line=4946'>4947</a>\u001b[0m     klass\u001b[39m=\u001b[39m_shared_doc_kwargs[\u001b[39m\"\u001b[39m\u001b[39mklass\u001b[39m\u001b[39m\"\u001b[39m],\n\u001b[0;32m   (...)\u001b[0m\n\u001b[1;32m   <a href='file:///~/Library/r-miniconda/lib/python3.8/site-packages/pandas/core/series.py?line=4957'>4958</a>\u001b[0m     method: \u001b[39mstr\u001b[39m \u001b[39m|\u001b[39m lib\u001b[39m.\u001b[39mNoDefault \u001b[39m=\u001b[39m lib\u001b[39m.\u001b[39mno_default,\n\u001b[1;32m   <a href='file:///~/Library/r-miniconda/lib/python3.8/site-packages/pandas/core/series.py?line=4958'>4959</a>\u001b[0m ):\n\u001b[0;32m-> <a href='file:///~/Library/r-miniconda/lib/python3.8/site-packages/pandas/core/series.py?line=4959'>4960</a>\u001b[0m     \u001b[39mreturn\u001b[39;00m \u001b[39msuper\u001b[39;49m()\u001b[39m.\u001b[39;49mreplace(\n\u001b[1;32m   <a href='file:///~/Library/r-miniconda/lib/python3.8/site-packages/pandas/core/series.py?line=4960'>4961</a>\u001b[0m         to_replace\u001b[39m=\u001b[39;49mto_replace,\n\u001b[1;32m   <a href='file:///~/Library/r-miniconda/lib/python3.8/site-packages/pandas/core/series.py?line=4961'>4962</a>\u001b[0m         value\u001b[39m=\u001b[39;49mvalue,\n\u001b[1;32m   <a href='file:///~/Library/r-miniconda/lib/python3.8/site-packages/pandas/core/series.py?line=4962'>4963</a>\u001b[0m         inplace\u001b[39m=\u001b[39;49minplace,\n\u001b[1;32m   <a href='file:///~/Library/r-miniconda/lib/python3.8/site-packages/pandas/core/series.py?line=4963'>4964</a>\u001b[0m         limit\u001b[39m=\u001b[39;49mlimit,\n\u001b[1;32m   <a href='file:///~/Library/r-miniconda/lib/python3.8/site-packages/pandas/core/series.py?line=4964'>4965</a>\u001b[0m         regex\u001b[39m=\u001b[39;49mregex,\n\u001b[1;32m   <a href='file:///~/Library/r-miniconda/lib/python3.8/site-packages/pandas/core/series.py?line=4965'>4966</a>\u001b[0m         method\u001b[39m=\u001b[39;49mmethod,\n\u001b[1;32m   <a href='file:///~/Library/r-miniconda/lib/python3.8/site-packages/pandas/core/series.py?line=4966'>4967</a>\u001b[0m     )\n",
      "File \u001b[0;32m~/Library/r-miniconda/lib/python3.8/site-packages/pandas/core/generic.py:6708\u001b[0m, in \u001b[0;36mNDFrame.replace\u001b[0;34m(self, to_replace, value, inplace, limit, regex, method)\u001b[0m\n\u001b[1;32m   <a href='file:///~/Library/r-miniconda/lib/python3.8/site-packages/pandas/core/generic.py?line=6702'>6703</a>\u001b[0m     \u001b[39mif\u001b[39;00m \u001b[39mlen\u001b[39m(to_replace) \u001b[39m!=\u001b[39m \u001b[39mlen\u001b[39m(value):\n\u001b[1;32m   <a href='file:///~/Library/r-miniconda/lib/python3.8/site-packages/pandas/core/generic.py?line=6703'>6704</a>\u001b[0m         \u001b[39mraise\u001b[39;00m \u001b[39mValueError\u001b[39;00m(\n\u001b[1;32m   <a href='file:///~/Library/r-miniconda/lib/python3.8/site-packages/pandas/core/generic.py?line=6704'>6705</a>\u001b[0m             \u001b[39mf\u001b[39m\u001b[39m\"\u001b[39m\u001b[39mReplacement lists must match in length. \u001b[39m\u001b[39m\"\u001b[39m\n\u001b[1;32m   <a href='file:///~/Library/r-miniconda/lib/python3.8/site-packages/pandas/core/generic.py?line=6705'>6706</a>\u001b[0m             \u001b[39mf\u001b[39m\u001b[39m\"\u001b[39m\u001b[39mExpecting \u001b[39m\u001b[39m{\u001b[39;00m\u001b[39mlen\u001b[39m(to_replace)\u001b[39m}\u001b[39;00m\u001b[39m got \u001b[39m\u001b[39m{\u001b[39;00m\u001b[39mlen\u001b[39m(value)\u001b[39m}\u001b[39;00m\u001b[39m \u001b[39m\u001b[39m\"\u001b[39m\n\u001b[1;32m   <a href='file:///~/Library/r-miniconda/lib/python3.8/site-packages/pandas/core/generic.py?line=6706'>6707</a>\u001b[0m         )\n\u001b[0;32m-> <a href='file:///~/Library/r-miniconda/lib/python3.8/site-packages/pandas/core/generic.py?line=6707'>6708</a>\u001b[0m     new_data \u001b[39m=\u001b[39m \u001b[39mself\u001b[39;49m\u001b[39m.\u001b[39;49m_mgr\u001b[39m.\u001b[39;49mreplace_list(\n\u001b[1;32m   <a href='file:///~/Library/r-miniconda/lib/python3.8/site-packages/pandas/core/generic.py?line=6708'>6709</a>\u001b[0m         src_list\u001b[39m=\u001b[39;49mto_replace,\n\u001b[1;32m   <a href='file:///~/Library/r-miniconda/lib/python3.8/site-packages/pandas/core/generic.py?line=6709'>6710</a>\u001b[0m         dest_list\u001b[39m=\u001b[39;49mvalue,\n\u001b[1;32m   <a href='file:///~/Library/r-miniconda/lib/python3.8/site-packages/pandas/core/generic.py?line=6710'>6711</a>\u001b[0m         inplace\u001b[39m=\u001b[39;49minplace,\n\u001b[1;32m   <a href='file:///~/Library/r-miniconda/lib/python3.8/site-packages/pandas/core/generic.py?line=6711'>6712</a>\u001b[0m         regex\u001b[39m=\u001b[39;49mregex,\n\u001b[1;32m   <a href='file:///~/Library/r-miniconda/lib/python3.8/site-packages/pandas/core/generic.py?line=6712'>6713</a>\u001b[0m     )\n\u001b[1;32m   <a href='file:///~/Library/r-miniconda/lib/python3.8/site-packages/pandas/core/generic.py?line=6714'>6715</a>\u001b[0m \u001b[39melif\u001b[39;00m to_replace \u001b[39mis\u001b[39;00m \u001b[39mNone\u001b[39;00m:\n\u001b[1;32m   <a href='file:///~/Library/r-miniconda/lib/python3.8/site-packages/pandas/core/generic.py?line=6715'>6716</a>\u001b[0m     \u001b[39mif\u001b[39;00m \u001b[39mnot\u001b[39;00m (\n\u001b[1;32m   <a href='file:///~/Library/r-miniconda/lib/python3.8/site-packages/pandas/core/generic.py?line=6716'>6717</a>\u001b[0m         is_re_compilable(regex)\n\u001b[1;32m   <a href='file:///~/Library/r-miniconda/lib/python3.8/site-packages/pandas/core/generic.py?line=6717'>6718</a>\u001b[0m         \u001b[39mor\u001b[39;00m is_list_like(regex)\n\u001b[1;32m   <a href='file:///~/Library/r-miniconda/lib/python3.8/site-packages/pandas/core/generic.py?line=6718'>6719</a>\u001b[0m         \u001b[39mor\u001b[39;00m is_dict_like(regex)\n\u001b[1;32m   <a href='file:///~/Library/r-miniconda/lib/python3.8/site-packages/pandas/core/generic.py?line=6719'>6720</a>\u001b[0m     ):\n",
      "File \u001b[0;32m~/Library/r-miniconda/lib/python3.8/site-packages/pandas/core/internals/managers.py:458\u001b[0m, in \u001b[0;36mBaseBlockManager.replace_list\u001b[0;34m(self, src_list, dest_list, inplace, regex)\u001b[0m\n\u001b[1;32m    <a href='file:///~/Library/r-miniconda/lib/python3.8/site-packages/pandas/core/internals/managers.py?line=454'>455</a>\u001b[0m \u001b[39m\"\"\"do a list replace\"\"\"\u001b[39;00m\n\u001b[1;32m    <a href='file:///~/Library/r-miniconda/lib/python3.8/site-packages/pandas/core/internals/managers.py?line=455'>456</a>\u001b[0m inplace \u001b[39m=\u001b[39m validate_bool_kwarg(inplace, \u001b[39m\"\u001b[39m\u001b[39minplace\u001b[39m\u001b[39m\"\u001b[39m)\n\u001b[0;32m--> <a href='file:///~/Library/r-miniconda/lib/python3.8/site-packages/pandas/core/internals/managers.py?line=457'>458</a>\u001b[0m bm \u001b[39m=\u001b[39m \u001b[39mself\u001b[39;49m\u001b[39m.\u001b[39;49mapply(\n\u001b[1;32m    <a href='file:///~/Library/r-miniconda/lib/python3.8/site-packages/pandas/core/internals/managers.py?line=458'>459</a>\u001b[0m     \u001b[39m\"\u001b[39;49m\u001b[39mreplace_list\u001b[39;49m\u001b[39m\"\u001b[39;49m,\n\u001b[1;32m    <a href='file:///~/Library/r-miniconda/lib/python3.8/site-packages/pandas/core/internals/managers.py?line=459'>460</a>\u001b[0m     src_list\u001b[39m=\u001b[39;49msrc_list,\n\u001b[1;32m    <a href='file:///~/Library/r-miniconda/lib/python3.8/site-packages/pandas/core/internals/managers.py?line=460'>461</a>\u001b[0m     dest_list\u001b[39m=\u001b[39;49mdest_list,\n\u001b[1;32m    <a href='file:///~/Library/r-miniconda/lib/python3.8/site-packages/pandas/core/internals/managers.py?line=461'>462</a>\u001b[0m     inplace\u001b[39m=\u001b[39;49minplace,\n\u001b[1;32m    <a href='file:///~/Library/r-miniconda/lib/python3.8/site-packages/pandas/core/internals/managers.py?line=462'>463</a>\u001b[0m     regex\u001b[39m=\u001b[39;49mregex,\n\u001b[1;32m    <a href='file:///~/Library/r-miniconda/lib/python3.8/site-packages/pandas/core/internals/managers.py?line=463'>464</a>\u001b[0m )\n\u001b[1;32m    <a href='file:///~/Library/r-miniconda/lib/python3.8/site-packages/pandas/core/internals/managers.py?line=464'>465</a>\u001b[0m bm\u001b[39m.\u001b[39m_consolidate_inplace()\n\u001b[1;32m    <a href='file:///~/Library/r-miniconda/lib/python3.8/site-packages/pandas/core/internals/managers.py?line=465'>466</a>\u001b[0m \u001b[39mreturn\u001b[39;00m bm\n",
      "File \u001b[0;32m~/Library/r-miniconda/lib/python3.8/site-packages/pandas/core/internals/managers.py:304\u001b[0m, in \u001b[0;36mBaseBlockManager.apply\u001b[0;34m(self, f, align_keys, ignore_failures, **kwargs)\u001b[0m\n\u001b[1;32m    <a href='file:///~/Library/r-miniconda/lib/python3.8/site-packages/pandas/core/internals/managers.py?line=301'>302</a>\u001b[0m         applied \u001b[39m=\u001b[39m b\u001b[39m.\u001b[39mapply(f, \u001b[39m*\u001b[39m\u001b[39m*\u001b[39mkwargs)\n\u001b[1;32m    <a href='file:///~/Library/r-miniconda/lib/python3.8/site-packages/pandas/core/internals/managers.py?line=302'>303</a>\u001b[0m     \u001b[39melse\u001b[39;00m:\n\u001b[0;32m--> <a href='file:///~/Library/r-miniconda/lib/python3.8/site-packages/pandas/core/internals/managers.py?line=303'>304</a>\u001b[0m         applied \u001b[39m=\u001b[39m \u001b[39mgetattr\u001b[39;49m(b, f)(\u001b[39m*\u001b[39;49m\u001b[39m*\u001b[39;49mkwargs)\n\u001b[1;32m    <a href='file:///~/Library/r-miniconda/lib/python3.8/site-packages/pandas/core/internals/managers.py?line=304'>305</a>\u001b[0m \u001b[39mexcept\u001b[39;00m (\u001b[39mTypeError\u001b[39;00m, \u001b[39mNotImplementedError\u001b[39;00m):\n\u001b[1;32m    <a href='file:///~/Library/r-miniconda/lib/python3.8/site-packages/pandas/core/internals/managers.py?line=305'>306</a>\u001b[0m     \u001b[39mif\u001b[39;00m \u001b[39mnot\u001b[39;00m ignore_failures:\n",
      "File \u001b[0;32m~/Library/r-miniconda/lib/python3.8/site-packages/pandas/core/internals/blocks.py:813\u001b[0m, in \u001b[0;36mBlock.replace_list\u001b[0;34m(self, src_list, dest_list, inplace, regex)\u001b[0m\n\u001b[1;32m    <a href='file:///~/Library/r-miniconda/lib/python3.8/site-packages/pandas/core/internals/blocks.py?line=809'>810</a>\u001b[0m     \u001b[39massert\u001b[39;00m \u001b[39mnot\u001b[39;00m \u001b[39misinstance\u001b[39m(mib, \u001b[39mbool\u001b[39m)\n\u001b[1;32m    <a href='file:///~/Library/r-miniconda/lib/python3.8/site-packages/pandas/core/internals/blocks.py?line=810'>811</a>\u001b[0m     m \u001b[39m=\u001b[39m mib[blk_num : blk_num \u001b[39m+\u001b[39m \u001b[39m1\u001b[39m]\n\u001b[0;32m--> <a href='file:///~/Library/r-miniconda/lib/python3.8/site-packages/pandas/core/internals/blocks.py?line=812'>813</a>\u001b[0m result \u001b[39m=\u001b[39m blk\u001b[39m.\u001b[39;49m_replace_coerce(\n\u001b[1;32m    <a href='file:///~/Library/r-miniconda/lib/python3.8/site-packages/pandas/core/internals/blocks.py?line=813'>814</a>\u001b[0m     to_replace\u001b[39m=\u001b[39;49msrc,\n\u001b[1;32m    <a href='file:///~/Library/r-miniconda/lib/python3.8/site-packages/pandas/core/internals/blocks.py?line=814'>815</a>\u001b[0m     value\u001b[39m=\u001b[39;49mdest,\n\u001b[1;32m    <a href='file:///~/Library/r-miniconda/lib/python3.8/site-packages/pandas/core/internals/blocks.py?line=815'>816</a>\u001b[0m     mask\u001b[39m=\u001b[39;49mm,\n\u001b[1;32m    <a href='file:///~/Library/r-miniconda/lib/python3.8/site-packages/pandas/core/internals/blocks.py?line=816'>817</a>\u001b[0m     inplace\u001b[39m=\u001b[39;49minplace,\n\u001b[1;32m    <a href='file:///~/Library/r-miniconda/lib/python3.8/site-packages/pandas/core/internals/blocks.py?line=817'>818</a>\u001b[0m     regex\u001b[39m=\u001b[39;49mregex,\n\u001b[1;32m    <a href='file:///~/Library/r-miniconda/lib/python3.8/site-packages/pandas/core/internals/blocks.py?line=818'>819</a>\u001b[0m )\n\u001b[1;32m    <a href='file:///~/Library/r-miniconda/lib/python3.8/site-packages/pandas/core/internals/blocks.py?line=819'>820</a>\u001b[0m \u001b[39mif\u001b[39;00m convert \u001b[39mand\u001b[39;00m blk\u001b[39m.\u001b[39mis_object \u001b[39mand\u001b[39;00m \u001b[39mnot\u001b[39;00m \u001b[39mall\u001b[39m(x \u001b[39mis\u001b[39;00m \u001b[39mNone\u001b[39;00m \u001b[39mfor\u001b[39;00m x \u001b[39min\u001b[39;00m dest_list):\n\u001b[1;32m    <a href='file:///~/Library/r-miniconda/lib/python3.8/site-packages/pandas/core/internals/blocks.py?line=820'>821</a>\u001b[0m     \u001b[39m# GH#44498 avoid unwanted cast-back\u001b[39;00m\n\u001b[1;32m    <a href='file:///~/Library/r-miniconda/lib/python3.8/site-packages/pandas/core/internals/blocks.py?line=821'>822</a>\u001b[0m     result \u001b[39m=\u001b[39m extend_blocks(\n\u001b[1;32m    <a href='file:///~/Library/r-miniconda/lib/python3.8/site-packages/pandas/core/internals/blocks.py?line=822'>823</a>\u001b[0m         [b\u001b[39m.\u001b[39mconvert(numeric\u001b[39m=\u001b[39m\u001b[39mFalse\u001b[39;00m, copy\u001b[39m=\u001b[39m\u001b[39mTrue\u001b[39;00m) \u001b[39mfor\u001b[39;00m b \u001b[39min\u001b[39;00m result]\n\u001b[1;32m    <a href='file:///~/Library/r-miniconda/lib/python3.8/site-packages/pandas/core/internals/blocks.py?line=823'>824</a>\u001b[0m     )\n",
      "File \u001b[0;32m~/Library/r-miniconda/lib/python3.8/site-packages/pandas/core/internals/blocks.py:868\u001b[0m, in \u001b[0;36mBlock._replace_coerce\u001b[0;34m(self, to_replace, value, mask, inplace, regex)\u001b[0m\n\u001b[1;32m    <a href='file:///~/Library/r-miniconda/lib/python3.8/site-packages/pandas/core/internals/blocks.py?line=859'>860</a>\u001b[0m     \u001b[39mreturn\u001b[39;00m \u001b[39mself\u001b[39m\u001b[39m.\u001b[39m_replace_regex(\n\u001b[1;32m    <a href='file:///~/Library/r-miniconda/lib/python3.8/site-packages/pandas/core/internals/blocks.py?line=860'>861</a>\u001b[0m         to_replace,\n\u001b[1;32m    <a href='file:///~/Library/r-miniconda/lib/python3.8/site-packages/pandas/core/internals/blocks.py?line=861'>862</a>\u001b[0m         value,\n\u001b[0;32m   (...)\u001b[0m\n\u001b[1;32m    <a href='file:///~/Library/r-miniconda/lib/python3.8/site-packages/pandas/core/internals/blocks.py?line=864'>865</a>\u001b[0m         mask\u001b[39m=\u001b[39mmask,\n\u001b[1;32m    <a href='file:///~/Library/r-miniconda/lib/python3.8/site-packages/pandas/core/internals/blocks.py?line=865'>866</a>\u001b[0m     )\n\u001b[1;32m    <a href='file:///~/Library/r-miniconda/lib/python3.8/site-packages/pandas/core/internals/blocks.py?line=866'>867</a>\u001b[0m \u001b[39melse\u001b[39;00m:\n\u001b[0;32m--> <a href='file:///~/Library/r-miniconda/lib/python3.8/site-packages/pandas/core/internals/blocks.py?line=867'>868</a>\u001b[0m     \u001b[39mreturn\u001b[39;00m \u001b[39mself\u001b[39;49m\u001b[39m.\u001b[39;49mreplace(\n\u001b[1;32m    <a href='file:///~/Library/r-miniconda/lib/python3.8/site-packages/pandas/core/internals/blocks.py?line=868'>869</a>\u001b[0m         to_replace\u001b[39m=\u001b[39;49mto_replace, value\u001b[39m=\u001b[39;49mvalue, inplace\u001b[39m=\u001b[39;49minplace, mask\u001b[39m=\u001b[39;49mmask\n\u001b[1;32m    <a href='file:///~/Library/r-miniconda/lib/python3.8/site-packages/pandas/core/internals/blocks.py?line=869'>870</a>\u001b[0m     )\n",
      "File \u001b[0;32m~/Library/r-miniconda/lib/python3.8/site-packages/pandas/core/internals/blocks.py:691\u001b[0m, in \u001b[0;36mBlock.replace\u001b[0;34m(self, to_replace, value, inplace, mask)\u001b[0m\n\u001b[1;32m    <a href='file:///~/Library/r-miniconda/lib/python3.8/site-packages/pandas/core/internals/blocks.py?line=688'>689</a>\u001b[0m \u001b[39melif\u001b[39;00m \u001b[39mself\u001b[39m\u001b[39m.\u001b[39m_can_hold_element(value):\n\u001b[1;32m    <a href='file:///~/Library/r-miniconda/lib/python3.8/site-packages/pandas/core/internals/blocks.py?line=689'>690</a>\u001b[0m     blk \u001b[39m=\u001b[39m \u001b[39mself\u001b[39m \u001b[39mif\u001b[39;00m inplace \u001b[39melse\u001b[39;00m \u001b[39mself\u001b[39m\u001b[39m.\u001b[39mcopy()\n\u001b[0;32m--> <a href='file:///~/Library/r-miniconda/lib/python3.8/site-packages/pandas/core/internals/blocks.py?line=690'>691</a>\u001b[0m     putmask_inplace(blk\u001b[39m.\u001b[39;49mvalues, mask, value)\n\u001b[1;32m    <a href='file:///~/Library/r-miniconda/lib/python3.8/site-packages/pandas/core/internals/blocks.py?line=691'>692</a>\u001b[0m     \u001b[39mif\u001b[39;00m \u001b[39mnot\u001b[39;00m (\u001b[39mself\u001b[39m\u001b[39m.\u001b[39mis_object \u001b[39mand\u001b[39;00m value \u001b[39mis\u001b[39;00m \u001b[39mNone\u001b[39;00m):\n\u001b[1;32m    <a href='file:///~/Library/r-miniconda/lib/python3.8/site-packages/pandas/core/internals/blocks.py?line=692'>693</a>\u001b[0m         \u001b[39m# if the user *explicitly* gave None, we keep None, otherwise\u001b[39;00m\n\u001b[1;32m    <a href='file:///~/Library/r-miniconda/lib/python3.8/site-packages/pandas/core/internals/blocks.py?line=693'>694</a>\u001b[0m         \u001b[39m#  may downcast to NaN\u001b[39;00m\n\u001b[1;32m    <a href='file:///~/Library/r-miniconda/lib/python3.8/site-packages/pandas/core/internals/blocks.py?line=694'>695</a>\u001b[0m         blocks \u001b[39m=\u001b[39m blk\u001b[39m.\u001b[39mconvert(numeric\u001b[39m=\u001b[39m\u001b[39mFalse\u001b[39;00m, copy\u001b[39m=\u001b[39m\u001b[39mFalse\u001b[39;00m)\n",
      "File \u001b[0;32m~/Library/r-miniconda/lib/python3.8/site-packages/pandas/core/array_algos/putmask.py:57\u001b[0m, in \u001b[0;36mputmask_inplace\u001b[0;34m(values, mask, value)\u001b[0m\n\u001b[1;32m     <a href='file:///~/Library/r-miniconda/lib/python3.8/site-packages/pandas/core/array_algos/putmask.py?line=54'>55</a>\u001b[0m         values[mask] \u001b[39m=\u001b[39m value[mask]\n\u001b[1;32m     <a href='file:///~/Library/r-miniconda/lib/python3.8/site-packages/pandas/core/array_algos/putmask.py?line=55'>56</a>\u001b[0m     \u001b[39melse\u001b[39;00m:\n\u001b[0;32m---> <a href='file:///~/Library/r-miniconda/lib/python3.8/site-packages/pandas/core/array_algos/putmask.py?line=56'>57</a>\u001b[0m         values[mask] \u001b[39m=\u001b[39m value\n\u001b[1;32m     <a href='file:///~/Library/r-miniconda/lib/python3.8/site-packages/pandas/core/array_algos/putmask.py?line=57'>58</a>\u001b[0m \u001b[39melse\u001b[39;00m:\n\u001b[1;32m     <a href='file:///~/Library/r-miniconda/lib/python3.8/site-packages/pandas/core/array_algos/putmask.py?line=58'>59</a>\u001b[0m     \u001b[39m# GH#37833 np.putmask is more performant than __setitem__\u001b[39;00m\n\u001b[1;32m     <a href='file:///~/Library/r-miniconda/lib/python3.8/site-packages/pandas/core/array_algos/putmask.py?line=59'>60</a>\u001b[0m     np\u001b[39m.\u001b[39mputmask(values, mask, value)\n",
      "\u001b[0;31mValueError\u001b[0m: NumPy boolean array indexing assignment cannot assign 3 input values to the 5 output values where the mask is true"
     ]
    }
   ],
   "source": [
    "#We want to make the addresses in the Google Maps df compatible with those in Open Table\n",
    "#To do that, we want to extract the post code, and then map it to its \n",
    "#corresponding neighbourhood using the postcode dictionary above \n",
    "\n",
    "#Extract the postcode\n",
    "google_df['address_postcode'] = google_df['address'].str[-7:]\n",
    "google_df['address_postcode'] = google_df['address_postcode'].str[:3]\n",
    "google_df['address_postcode'] = google_df['address_postcode'].str.replace(\" \", \"\")\n"
   ]
  },
  {
   "cell_type": "code",
   "execution_count": 80,
   "metadata": {},
   "outputs": [],
   "source": [
    "#Make column names suitable for merging \n",
    "google_df.rename({'cusine': 'Google Cuisine', 'price': 'Google Price', 'rating': 'Google Rating', 'reviews_count': \"Google Review Count\"}, axis=1, inplace=True)"
   ]
  },
  {
   "cell_type": "code",
   "execution_count": 210,
   "metadata": {},
   "outputs": [],
   "source": [
    "opentable_df.rename({'cuisine': 'OpenTable Cuisine', 'price': 'OpenTable Price', 'rating': 'OpenTable Rating', 'reviews': \"OpenTable Review Count\"}, axis=1, inplace=True)"
   ]
  },
  {
   "cell_type": "code",
   "execution_count": 211,
   "metadata": {},
   "outputs": [],
   "source": [
    "restaurants_df = pd.merge(google_df, opentable_df, how=\"outer\", on=[\"names\"])"
   ]
  },
  {
   "cell_type": "code",
   "execution_count": 212,
   "metadata": {},
   "outputs": [
    {
     "data": {
      "text/html": [
       "<div>\n",
       "<style scoped>\n",
       "    .dataframe tbody tr th:only-of-type {\n",
       "        vertical-align: middle;\n",
       "    }\n",
       "\n",
       "    .dataframe tbody tr th {\n",
       "        vertical-align: top;\n",
       "    }\n",
       "\n",
       "    .dataframe thead th {\n",
       "        text-align: right;\n",
       "    }\n",
       "</style>\n",
       "<table border=\"1\" class=\"dataframe\">\n",
       "  <thead>\n",
       "    <tr style=\"text-align: right;\">\n",
       "      <th></th>\n",
       "      <th>names</th>\n",
       "      <th>summary</th>\n",
       "      <th>Google Cuisine</th>\n",
       "      <th>Google Price</th>\n",
       "      <th>Google Review Count</th>\n",
       "      <th>Google Rating</th>\n",
       "      <th>address_x</th>\n",
       "      <th>url</th>\n",
       "      <th>OpenTable Cuisine</th>\n",
       "      <th>OpenTable Price</th>\n",
       "      <th>OpenTable Review Count</th>\n",
       "      <th>OpenTable Rating</th>\n",
       "      <th>address_y</th>\n",
       "    </tr>\n",
       "  </thead>\n",
       "  <tbody>\n",
       "    <tr>\n",
       "      <th>0</th>\n",
       "      <td>Restaurant Story</td>\n",
       "      <td>Chef Tom Sellers' novel approach to British cl...</td>\n",
       "      <td>Fine dining restaurant</td>\n",
       "      <td>4.0</td>\n",
       "      <td>418.0</td>\n",
       "      <td>4.6</td>\n",
       "      <td>199 Tooley St, London SE1 2JX</td>\n",
       "      <td>https://www.google.com/maps/place/Restaurant+S...</td>\n",
       "      <td>NaN</td>\n",
       "      <td>NaN</td>\n",
       "      <td>NaN</td>\n",
       "      <td>NaN</td>\n",
       "      <td>NaN</td>\n",
       "    </tr>\n",
       "    <tr>\n",
       "      <th>1</th>\n",
       "      <td>Galvin La Chapelle</td>\n",
       "      <td>NaN</td>\n",
       "      <td>French restaurant</td>\n",
       "      <td>4.0</td>\n",
       "      <td>1901.0</td>\n",
       "      <td>4.6</td>\n",
       "      <td>NaN</td>\n",
       "      <td>https://www.google.com/maps/place/Galvin+La+Ch...</td>\n",
       "      <td>NaN</td>\n",
       "      <td>NaN</td>\n",
       "      <td>NaN</td>\n",
       "      <td>NaN</td>\n",
       "      <td>NaN</td>\n",
       "    </tr>\n",
       "    <tr>\n",
       "      <th>2</th>\n",
       "      <td>City Social</td>\n",
       "      <td>NaN</td>\n",
       "      <td>Modern European restaurant</td>\n",
       "      <td>4.0</td>\n",
       "      <td>1187.0</td>\n",
       "      <td>4.5</td>\n",
       "      <td>NaN</td>\n",
       "      <td>https://www.google.com/maps/place/City+Social/...</td>\n",
       "      <td>NaN</td>\n",
       "      <td>NaN</td>\n",
       "      <td>NaN</td>\n",
       "      <td>NaN</td>\n",
       "      <td>NaN</td>\n",
       "    </tr>\n",
       "    <tr>\n",
       "      <th>3</th>\n",
       "      <td>Brawn</td>\n",
       "      <td>Mediterranean small plates menu with an 'all t...</td>\n",
       "      <td>Mediterranean restaurant</td>\n",
       "      <td>2.0</td>\n",
       "      <td>615.0</td>\n",
       "      <td>4.7</td>\n",
       "      <td>49 Columbia Rd, London E2 7RG</td>\n",
       "      <td>https://www.google.com/maps/place/Brawn/@51.52...</td>\n",
       "      <td>NaN</td>\n",
       "      <td>NaN</td>\n",
       "      <td>NaN</td>\n",
       "      <td>NaN</td>\n",
       "      <td>NaN</td>\n",
       "    </tr>\n",
       "    <tr>\n",
       "      <th>4</th>\n",
       "      <td>Il Bordello</td>\n",
       "      <td>Old-school Italian restaurant with an authenti...</td>\n",
       "      <td>Italian restaurant</td>\n",
       "      <td>2.0</td>\n",
       "      <td>1170.0</td>\n",
       "      <td>4.5</td>\n",
       "      <td>metropolitan wharf, 70 Wapping Wall, London E1...</td>\n",
       "      <td>https://www.google.com/maps/place/Il+Bordello/...</td>\n",
       "      <td>NaN</td>\n",
       "      <td>NaN</td>\n",
       "      <td>NaN</td>\n",
       "      <td>NaN</td>\n",
       "      <td>NaN</td>\n",
       "    </tr>\n",
       "  </tbody>\n",
       "</table>\n",
       "</div>"
      ],
      "text/plain": [
       "                names                                            summary  \\\n",
       "0    Restaurant Story  Chef Tom Sellers' novel approach to British cl...   \n",
       "1  Galvin La Chapelle                                                NaN   \n",
       "2         City Social                                                NaN   \n",
       "3               Brawn  Mediterranean small plates menu with an 'all t...   \n",
       "4         Il Bordello  Old-school Italian restaurant with an authenti...   \n",
       "\n",
       "               Google Cuisine  Google Price  Google Review Count  \\\n",
       "0      Fine dining restaurant           4.0                418.0   \n",
       "1           French restaurant           4.0               1901.0   \n",
       "2  Modern European restaurant           4.0               1187.0   \n",
       "3    Mediterranean restaurant           2.0                615.0   \n",
       "4          Italian restaurant           2.0               1170.0   \n",
       "\n",
       "   Google Rating                                          address_x  \\\n",
       "0            4.6                      199 Tooley St, London SE1 2JX   \n",
       "1            4.6                                                NaN   \n",
       "2            4.5                                                NaN   \n",
       "3            4.7                      49 Columbia Rd, London E2 7RG   \n",
       "4            4.5  metropolitan wharf, 70 Wapping Wall, London E1...   \n",
       "\n",
       "                                                 url OpenTable Cuisine  \\\n",
       "0  https://www.google.com/maps/place/Restaurant+S...               NaN   \n",
       "1  https://www.google.com/maps/place/Galvin+La+Ch...               NaN   \n",
       "2  https://www.google.com/maps/place/City+Social/...               NaN   \n",
       "3  https://www.google.com/maps/place/Brawn/@51.52...               NaN   \n",
       "4  https://www.google.com/maps/place/Il+Bordello/...               NaN   \n",
       "\n",
       "   OpenTable Price  OpenTable Review Count  OpenTable Rating address_y  \n",
       "0              NaN                     NaN               NaN       NaN  \n",
       "1              NaN                     NaN               NaN       NaN  \n",
       "2              NaN                     NaN               NaN       NaN  \n",
       "3              NaN                     NaN               NaN       NaN  \n",
       "4              NaN                     NaN               NaN       NaN  "
      ]
     },
     "execution_count": 212,
     "metadata": {},
     "output_type": "execute_result"
    }
   ],
   "source": [
    "restaurants_df.head()"
   ]
  },
  {
   "cell_type": "code",
   "execution_count": 213,
   "metadata": {},
   "outputs": [],
   "source": [
    "restaurants_df.to_csv(\"rest.csv\")"
   ]
  },
  {
   "cell_type": "code",
   "execution_count": 214,
   "metadata": {},
   "outputs": [
    {
     "data": {
      "text/plain": [
       "647"
      ]
     },
     "execution_count": 214,
     "metadata": {},
     "output_type": "execute_result"
    }
   ],
   "source": [
    "len(restaurants_df)"
   ]
  },
  {
   "cell_type": "code",
   "execution_count": null,
   "metadata": {},
   "outputs": [],
   "source": []
  },
  {
   "cell_type": "code",
   "execution_count": null,
   "metadata": {},
   "outputs": [],
   "source": []
  },
  {
   "cell_type": "code",
   "execution_count": null,
   "metadata": {},
   "outputs": [],
   "source": [
    "import inquirer\n",
    "questions = [\n",
    "  inquirer.List('size',\n",
    "                message=\"What size do you need?\",\n",
    "                choices=['Jumbo', 'Large', 'Standard', 'Medium', 'Small', 'Micro'],\n",
    "            ),\n",
    "]\n",
    "answers = inquirer.prompt(questions)\n",
    "print answers[\"size\"]"
   ]
  }
 ],
 "metadata": {
  "interpreter": {
   "hash": "b73deb49e4317e1634e6598c4f5693ac751ba82d1598f517dcce0ddf30ad8fdf"
  },
  "kernelspec": {
   "display_name": "Python 3.7.6",
   "language": "python",
   "name": "python3"
  },
  "language_info": {
   "codemirror_mode": {
    "name": "ipython",
    "version": 3
   },
   "file_extension": ".py",
   "mimetype": "text/x-python",
   "name": "python",
   "nbconvert_exporter": "python",
   "pygments_lexer": "ipython3",
   "version": "3.8.5"
  },
  "orig_nbformat": 4
 },
 "nbformat": 4,
 "nbformat_minor": 2
}
